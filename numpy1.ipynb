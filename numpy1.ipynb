{
 "cells": [
  {
   "cell_type": "markdown",
   "id": "526a8164-0108-492b-ac72-7e5c7cb7fb32",
   "metadata": {},
   "source": [
    "# NUMPY[numerical python]"
   ]
  },
  {
   "cell_type": "code",
   "execution_count": 1,
   "id": "355c2b90",
   "metadata": {},
   "outputs": [
    {
     "name": "stdout",
     "output_type": "stream",
     "text": [
      "73\n"
     ]
    },
    {
     "data": {
      "text/plain": [
       "['as_integer_ratio',\n",
       " 'bit_count',\n",
       " 'bit_length',\n",
       " 'conjugate',\n",
       " 'denominator',\n",
       " 'from_bytes',\n",
       " 'imag',\n",
       " 'numerator',\n",
       " 'real',\n",
       " 'to_bytes']"
      ]
     },
     "execution_count": 1,
     "metadata": {},
     "output_type": "execute_result"
    }
   ],
   "source": [
    "a =3\n",
    "print(len(dir(a)))\n",
    "dir(a)[-10:]"
   ]
  },
  {
   "cell_type": "code",
   "execution_count": 2,
   "id": "5caf64a6-656c-4454-9308-3159fb785a5f",
   "metadata": {
    "tags": []
   },
   "outputs": [
    {
     "data": {
      "text/plain": [
       "[[0, 1], [10, 5], [7, 3]]"
      ]
     },
     "execution_count": 2,
     "metadata": {},
     "output_type": "execute_result"
    }
   ],
   "source": [
    "points= [[0,1],[10,5],[7,3]]\n",
    "points"
   ]
  },
  {
   "cell_type": "markdown",
   "id": "a84b3913-8afc-4095-965e-9d96bde230a5",
   "metadata": {},
   "source": [
    "# Random intgeres or random numbers"
   ]
  },
  {
   "cell_type": "code",
   "execution_count": 3,
   "id": "fedea50e-46f2-4476-bb8d-6516c7da72a9",
   "metadata": {
    "tags": []
   },
   "outputs": [
    {
     "data": {
      "text/plain": [
       "[[0, 14],\n",
       " [6, 9],\n",
       " [4, 10],\n",
       " [1, 26],\n",
       " [7, 31],\n",
       " [7, 26],\n",
       " [2, 37],\n",
       " [1, 7],\n",
       " [6, 17],\n",
       " [10, 8]]"
      ]
     },
     "execution_count": 3,
     "metadata": {},
     "output_type": "execute_result"
    }
   ],
   "source": [
    "from random import randint\n",
    "\n",
    "num_points = 10\n",
    "x_range = (0, 10)\n",
    "y_range = (0, 50)\n",
    "points = [[randint(*x_range), randint(*y_range)] for _ in range(num_points)]\n",
    "points"
   ]
  },
  {
   "cell_type": "code",
   "execution_count": 4,
   "id": "35b097de",
   "metadata": {},
   "outputs": [
    {
     "data": {
      "text/plain": [
       "array([[ 0, 14],\n",
       "       [ 6,  9],\n",
       "       [ 4, 10],\n",
       "       [ 1, 26],\n",
       "       [ 7, 31],\n",
       "       [ 7, 26],\n",
       "       [ 2, 37],\n",
       "       [ 1,  7],\n",
       "       [ 6, 17],\n",
       "       [10,  8]])"
      ]
     },
     "execution_count": 4,
     "metadata": {},
     "output_type": "execute_result"
    }
   ],
   "source": [
    "import numpy as np\n",
    "points = np.array(points)\n",
    "points"
   ]
  },
  {
   "cell_type": "markdown",
   "id": "84610b73-64bf-49df-85c0-bc36d34f9345",
   "metadata": {
    "tags": []
   },
   "source": [
    "# numpy function randint to create an ndarray of points"
   ]
  },
  {
   "cell_type": "code",
   "execution_count": 5,
   "id": "658bbbd6-54d1-462c-b8b7-7609dfd9a0ae",
   "metadata": {
    "tags": []
   },
   "outputs": [
    {
     "data": {
      "text/plain": [
       "array([[ 1, 15],\n",
       "       [ 9, 16],\n",
       "       [ 0, 24],\n",
       "       [ 4, 27],\n",
       "       [ 7, 13],\n",
       "       [ 0, 50],\n",
       "       [ 2, 18],\n",
       "       [ 7, 11],\n",
       "       [ 9, 47],\n",
       "       [10, 11]])"
      ]
     },
     "execution_count": 5,
     "metadata": {},
     "output_type": "execute_result"
    }
   ],
   "source": [
    "import numpy as np\n",
    "num_dims = 2\n",
    "num_points = 10\n",
    "x_range=(0, 11)\n",
    "y_range=(0, 51)\n",
    "points = np.random.randint(low=(x_range[0], y_range[0]), high=(x_range[1], y_range[1]), size=(num_points, num_dims))\n",
    "points"
   ]
  },
  {
   "cell_type": "code",
   "execution_count": 6,
   "id": "6d465545-5b05-4f1b-aad6-45d3dfb2f7e6",
   "metadata": {
    "tags": []
   },
   "outputs": [],
   "source": [
    "num_dims = 2\n",
    "num_points = 100000\n",
    "x_range = (0,10)\n",
    "y_range = (0, 50)"
   ]
  },
  {
   "cell_type": "markdown",
   "id": "4a3a1bcb",
   "metadata": {},
   "source": [
    "# Numpy Basics"
   ]
  },
  {
   "cell_type": "code",
   "execution_count": 7,
   "id": "a2c33170",
   "metadata": {},
   "outputs": [
    {
     "data": {
      "text/plain": [
       "array([ 1,  2,  3,  4,  5,  6,  7,  8,  9, 10])"
      ]
     },
     "execution_count": 7,
     "metadata": {},
     "output_type": "execute_result"
    }
   ],
   "source": [
    "#Converting lists to arrays\n",
    "py_list = [1,2,3,4,5,6,7,8,9,10]\n",
    "np_array = np.array(py_list)\n",
    "np_array"
   ]
  },
  {
   "cell_type": "code",
   "execution_count": 8,
   "id": "d39df6de",
   "metadata": {},
   "outputs": [
    {
     "data": {
      "text/plain": [
       "array([[ 1,  2,  3],\n",
       "       [ 4,  5,  6],\n",
       "       [ 7,  8,  9],\n",
       "       [10, 11, 12]])"
      ]
     },
     "execution_count": 8,
     "metadata": {},
     "output_type": "execute_result"
    }
   ],
   "source": [
    "py_list = [[1,2,3], [4,5,6],[7,8,9],[10,11,12]]\n",
    "np_array = np.array(py_list)\n",
    "np_array"
   ]
  },
  {
   "cell_type": "markdown",
   "id": "36811164",
   "metadata": {},
   "source": [
    "# Indexing refers to accessing a particular element of an array and Slicing refers to accessing a segement of an array"
   ]
  },
  {
   "cell_type": "code",
   "execution_count": 9,
   "id": "f8d009b2",
   "metadata": {},
   "outputs": [
    {
     "name": "stdout",
     "output_type": "stream",
     "text": [
      "First row:\t\t\t[1 2 3]\n",
      "\n",
      "First row:\t\t\t[1 2 3]\n",
      "\n",
      "First column:\t\t\t[ 1  4  7 10]\n",
      "\n",
      "3rd row 2nd column element:\t8\n",
      "\n",
      "2nd row onwards and 2nd column onwards :\n",
      "[[ 5  6]\n",
      " [ 8  9]\n",
      " [11 12]]\n",
      "\n",
      "Last 2 rows and last 2 columns onwards:\n",
      "[[ 8  9]\n",
      " [11 12]]\n",
      "\n",
      "Array with the 3rd, 1st and 4th row:\n",
      "[[ 7  8  9]\n",
      " [ 1  2  3]\n",
      " [10 11 12]]\n",
      "\n",
      "Array with the 1st and 3rd col:\n",
      "[[ 1  3]\n",
      " [ 4  6]\n",
      " [ 7  9]\n",
      " [10 12]]\n",
      "\n"
     ]
    }
   ],
   "source": [
    "print('First row:\\t\\t\\t{}\\n'.format(np_array[0]))\n",
    "print('First row:\\t\\t\\t{}\\n'.format(np_array[0,:]))\n",
    "print('First column:\\t\\t\\t{}\\n'.format(np_array[:,0]))\n",
    "print('3rd row 2nd column element:\\t{}\\n'.format(np_array[2,1]))\n",
    "print('2nd row onwards and 2nd column onwards :\\n{}\\n'.format(np_array[1:, 1:]))\n",
    "print('Last 2 rows and last 2 columns onwards:\\n{}\\n'.format(np_array[-2:, -2:]))\n",
    "print('Array with the 3rd, 1st and 4th row:\\n{}\\n'.format(np_array[[2,0,3]]))\n",
    "print('Array with the 1st and 3rd col:\\n{}\\n'.format(np_array[:,[0,2]]))"
   ]
  },
  {
   "cell_type": "markdown",
   "id": "0e391554",
   "metadata": {},
   "source": [
    "# Basic Attributes of Numpy arrays\n"
   ]
  },
  {
   "cell_type": "code",
   "execution_count": 10,
   "id": "9f201a23",
   "metadata": {},
   "outputs": [
    {
     "name": "stdout",
     "output_type": "stream",
     "text": [
      "Data type:\tint32\n",
      "Array shape:\t(4, 3)\n"
     ]
    }
   ],
   "source": [
    "print('Data type:\\t{}'.format(np_array.dtype))\n",
    "print('Array shape:\\t{}'.format(np_array.shape))"
   ]
  },
  {
   "cell_type": "markdown",
   "id": "e34274f2",
   "metadata": {},
   "source": [
    "# Create a conenience function for printing array formation"
   ]
  },
  {
   "cell_type": "code",
   "execution_count": 11,
   "id": "d2cf3868",
   "metadata": {},
   "outputs": [
    {
     "name": "stdout",
     "output_type": "stream",
     "text": [
      "Array:\n",
      "[[ 1  2  3]\n",
      " [ 4  5  6]\n",
      " [ 7  8  9]\n",
      " [10 11 12]]\n",
      "Data type:\tint32\n",
      "Array shape:\t(4, 3)\n",
      "\n"
     ]
    }
   ],
   "source": [
    "def array_info(array):\n",
    "    print('Array:\\n{}'.format(array))\n",
    "    print('Data type:\\t{}'.format(np_array.dtype))\n",
    "    print('Array shape:\\t{}\\n'.format(np_array.shape)\n",
    "    )\n",
    "array_info(np_array)"
   ]
  },
  {
   "cell_type": "markdown",
   "id": "99c3ee11",
   "metadata": {},
   "source": [
    "# Creating Numpy using built in functions and Datatypes"
   ]
  },
  {
   "cell_type": "markdown",
   "id": "e1efe47c",
   "metadata": {},
   "source": [
    "Sequence array wea re creating with np.arange([start,]stop, [step,]dtype=None)"
   ]
  },
  {
   "cell_type": "code",
   "execution_count": 12,
   "id": "92d451ef",
   "metadata": {},
   "outputs": [
    {
     "name": "stdout",
     "output_type": "stream",
     "text": [
      "Array:\n",
      "[0 1 2 3 4 5 6 7 8 9]\n",
      "Data type:\tint32\n",
      "Array shape:\t(4, 3)\n",
      "\n"
     ]
    }
   ],
   "source": [
    "#Sequence array\n",
    "import numpy as np\n",
    "array = np.arange(10, dtype=np.int64)\n",
    "array_info(array)"
   ]
  },
  {
   "cell_type": "code",
   "execution_count": 13,
   "id": "c5c5ee48",
   "metadata": {},
   "outputs": [
    {
     "name": "stdout",
     "output_type": "stream",
     "text": [
      "Array:\n",
      "[5. 7. 9.]\n",
      "Data type:\tint32\n",
      "Array shape:\t(4, 3)\n",
      "\n"
     ]
    }
   ],
   "source": [
    "# Sequence array\n",
    "array = np.arange(5, 10, 2, dtype=np.float32)\n",
    "array_info(array)"
   ]
  },
  {
   "cell_type": "markdown",
   "id": "78938998",
   "metadata": {},
   "source": [
    "Linspace returns evenly spaced samples, calcuated over the interval [start, stop]. it is defined in this fashion \n",
    "np.linspace(start, stop, num=50, endpoint=True, retstep=Flase, dtype=Noine, axis=0)"
   ]
  },
  {
   "cell_type": "code",
   "execution_count": 14,
   "id": "ae0528de",
   "metadata": {},
   "outputs": [
    {
     "name": "stdout",
     "output_type": "stream",
     "text": [
      "Array:\n",
      "[0.        0.8333333 1.6666666 2.5       3.3333333 4.1666665 5.       ]\n",
      "Data type:\tint32\n",
      "Array shape:\t(4, 3)\n",
      "\n"
     ]
    }
   ],
   "source": [
    "#linspace\n",
    "linespace = np.linspace(0,5,7, dtype=np.float32) #7 elements between 0 and 5\n",
    "array_info(linespace)"
   ]
  },
  {
   "cell_type": "markdown",
   "id": "91673d08",
   "metadata": {},
   "source": [
    "# Zeros Array"
   ]
  },
  {
   "cell_type": "code",
   "execution_count": 15,
   "id": "1c3c2cdd",
   "metadata": {},
   "outputs": [
    {
     "name": "stdout",
     "output_type": "stream",
     "text": [
      "Array:\n",
      "[[0. 0. 0.]\n",
      " [0. 0. 0.]]\n",
      "Data type:\tint32\n",
      "Array shape:\t(4, 3)\n",
      "\n"
     ]
    }
   ],
   "source": [
    "#Zeros array/matrix\n",
    "zeros = np.zeros((2,3),dtype=np.float32)\n",
    "array_info(zeros)\n"
   ]
  },
  {
   "cell_type": "markdown",
   "id": "bc872d7c",
   "metadata": {},
   "source": [
    "# Ones Array"
   ]
  },
  {
   "cell_type": "code",
   "execution_count": 16,
   "id": "6da70cb5",
   "metadata": {},
   "outputs": [
    {
     "name": "stdout",
     "output_type": "stream",
     "text": [
      "Array:\n",
      "[[1 1]\n",
      " [1 1]\n",
      " [1 1]]\n",
      "Data type:\tint32\n",
      "Array shape:\t(4, 3)\n",
      "\n"
     ]
    }
   ],
   "source": [
    "# Ones Array/matrix\n",
    "ones = np.ones((3,2), dtype=np.int8)\n",
    "array_info(ones)"
   ]
  },
  {
   "cell_type": "markdown",
   "id": "9bf70a0b",
   "metadata": {},
   "source": [
    "# Constant_Array"
   ]
  },
  {
   "cell_type": "code",
   "execution_count": 17,
   "id": "bb74e195",
   "metadata": {},
   "outputs": [
    {
     "name": "stdout",
     "output_type": "stream",
     "text": [
      "Array:\n",
      "[[3.14 3.14 3.14]\n",
      " [3.14 3.14 3.14]\n",
      " [3.14 3.14 3.14]]\n",
      "Data type:\tint32\n",
      "Array shape:\t(4, 3)\n",
      "\n"
     ]
    }
   ],
   "source": [
    "array = np.full((3,3,), 3.14)\n",
    "array_info(array)"
   ]
  },
  {
   "cell_type": "markdown",
   "id": "a3025d3a",
   "metadata": {},
   "source": [
    "# Identity array"
   ]
  },
  {
   "cell_type": "code",
   "execution_count": 18,
   "id": "5efb11fb",
   "metadata": {},
   "outputs": [
    {
     "name": "stdout",
     "output_type": "stream",
     "text": [
      "Array:\n",
      "[[1. 0. 0. 0. 0.]\n",
      " [0. 1. 0. 0. 0.]\n",
      " [0. 0. 1. 0. 0.]\n",
      " [0. 0. 0. 1. 0.]\n",
      " [0. 0. 0. 0. 1.]]\n",
      "Data type:\tint32\n",
      "Array shape:\t(4, 3)\n",
      "\n"
     ]
    }
   ],
   "source": [
    "identity = np.eye(5, dtype=np.float32)\n",
    "array_info(identity)"
   ]
  },
  {
   "cell_type": "markdown",
   "id": "3c6b9164",
   "metadata": {},
   "source": [
    "# Random Integers Array\n",
    "np.random.ranint(low, high=None, size=None, dtype='1')"
   ]
  },
  {
   "cell_type": "code",
   "execution_count": 19,
   "id": "a9f2592b",
   "metadata": {},
   "outputs": [
    {
     "name": "stdout",
     "output_type": "stream",
     "text": [
      "Array:\n",
      "[[0.23276409 0.61395715 0.87498986 0.06389589 0.74700248]\n",
      " [0.87669898 0.55762322 0.43470405 0.89806169 0.14484838]\n",
      " [0.48539968 0.46393688 0.22628864 0.37274456 0.56362313]\n",
      " [0.52260716 0.76991589 0.85112275 0.17973985 0.6930655 ]\n",
      " [0.63756836 0.59996139 0.55450418 0.75485093 0.22225017]]\n",
      "Data type:\tint32\n",
      "Array shape:\t(4, 3)\n",
      "\n"
     ]
    }
   ],
   "source": [
    "random_array = np.random.random((5,5))\n",
    "array_info(random_array)"
   ]
  },
  {
   "cell_type": "markdown",
   "id": "84a4d8f6",
   "metadata": {},
   "source": [
    "# Boolean array"
   ]
  },
  {
   "cell_type": "code",
   "execution_count": 20,
   "id": "80adf450",
   "metadata": {},
   "outputs": [
    {
     "name": "stdout",
     "output_type": "stream",
     "text": [
      "Array:\n",
      "[[False  True  True False  True]\n",
      " [ True  True False  True False]\n",
      " [False False False False  True]\n",
      " [ True  True  True False  True]\n",
      " [ True  True  True  True False]]\n",
      "Data type:\tint32\n",
      "Array shape:\t(4, 3)\n",
      "\n"
     ]
    }
   ],
   "source": [
    "bool_array = random_array>0.5\n",
    "array_info(bool_array)"
   ]
  },
  {
   "cell_type": "code",
   "execution_count": 21,
   "id": "9a22b0b0",
   "metadata": {},
   "outputs": [
    {
     "name": "stdout",
     "output_type": "stream",
     "text": [
      "Array:\n",
      "[0.61395715 0.87498986 0.74700248 0.87669898 0.55762322 0.89806169\n",
      " 0.56362313 0.52260716 0.76991589 0.85112275 0.6930655  0.63756836\n",
      " 0.59996139 0.55450418 0.75485093]\n",
      "Data type:\tint32\n",
      "Array shape:\t(4, 3)\n",
      "\n"
     ]
    }
   ],
   "source": [
    "values = random_array[bool_array]\n",
    "array_info(values)"
   ]
  },
  {
   "cell_type": "markdown",
   "id": "60872292",
   "metadata": {},
   "source": [
    "# Data Tye Conversion"
   ]
  },
  {
   "cell_type": "code",
   "execution_count": 22,
   "id": "d92ad40f",
   "metadata": {},
   "outputs": [
    {
     "name": "stdout",
     "output_type": "stream",
     "text": [
      "Array:\n",
      "[34 37 83 45 13 63 91 10 12 44]\n",
      "Data type:\tint32\n",
      "Array shape:\t(4, 3)\n",
      "\n"
     ]
    }
   ],
   "source": [
    "age_in_years = np.random.randint(0,100,10)\n",
    "array_info(age_in_years)"
   ]
  },
  {
   "cell_type": "code",
   "execution_count": 24,
   "id": "3a5f401d",
   "metadata": {},
   "outputs": [
    {
     "name": "stdout",
     "output_type": "stream",
     "text": [
      "Looking in indexes: https://pypi.org/simple, https://pypi.ngc.nvidia.com\n",
      "Requirement already satisfied: numpy in c:\\users\\nihar\\appdata\\local\\programs\\python\\python312\\lib\\site-packages (1.26.4)\n"
     ]
    },
    {
     "name": "stderr",
     "output_type": "stream",
     "text": [
      "'DOSKEY' is not recognized as an internal or external command,\n",
      "operable program or batch file.\n",
      "\n",
      "[notice] A new release of pip is available: 24.1 -> 24.1.2\n",
      "[notice] To update, run: C:\\Users\\nihar\\AppData\\Local\\Programs\\Python\\Python312\\python.exe -m pip install --upgrade pip\n"
     ]
    }
   ],
   "source": [
    "!pip install numpy"
   ]
  },
  {
   "cell_type": "code",
   "execution_count": 26,
   "id": "6353a5a3",
   "metadata": {},
   "outputs": [
    {
     "name": "stdout",
     "output_type": "stream",
     "text": [
      "Array:\n",
      "[34 37 83 45 13 63 91 10 12 44]\n",
      "Data type:\tint32\n",
      "Array shape:\t(4, 3)\n",
      "\n"
     ]
    }
   ],
   "source": [
    "import numpy as np\n",
    "age_in_years = age_in_years.astype(np.uint8)\n",
    "array_info(age_in_years)"
   ]
  },
  {
   "cell_type": "code",
   "execution_count": 27,
   "id": "87bd8321",
   "metadata": {},
   "outputs": [
    {
     "name": "stdout",
     "output_type": "stream",
     "text": [
      "Array:\n",
      "[34. 37. 83. 45. 13. 63. 91. 10. 12. 44.]\n",
      "Data type:\tint32\n",
      "Array shape:\t(4, 3)\n",
      "\n"
     ]
    }
   ],
   "source": [
    "age_in_years=age_in_years.astype(np.float64)\n",
    "array_info(age_in_years)"
   ]
  },
  {
   "cell_type": "markdown",
   "id": "145db017",
   "metadata": {},
   "source": [
    "# Mathematical Functions\n",
    "# Exponential functions"
   ]
  },
  {
   "cell_type": "code",
   "execution_count": 29,
   "id": "9d9a65ca",
   "metadata": {},
   "outputs": [
    {
     "name": "stdout",
     "output_type": "stream",
     "text": [
      "Array:\n",
      "[[-1. -1. -1.]\n",
      " [ 0.  0.  0.]\n",
      " [ 1.  1.  1.]]\n",
      "Data type:\tint32\n",
      "Array shape:\t(4, 3)\n",
      "\n",
      "Exponential of an array:\n",
      "Array:\n",
      "[[0.36787944 0.36787944 0.36787944]\n",
      " [1.         1.         1.        ]\n",
      " [2.71828183 2.71828183 2.71828183]]\n",
      "Data type:\tint32\n",
      "Array shape:\t(4, 3)\n",
      "\n"
     ]
    }
   ],
   "source": [
    "array = np.array([np.full(3, -1), np.zeros(3), np.ones(3)])\n",
    "array_info(array)\n",
    "\n",
    "print('Exponential of an array:')\n",
    "exp_array = np.exp(array)\n",
    "array_info(exp_array)"
   ]
  },
  {
   "cell_type": "markdown",
   "id": "16cd1079",
   "metadata": {},
   "source": [
    "# Square root"
   ]
  },
  {
   "cell_type": "code",
   "execution_count": 30,
   "id": "29b1e0a2",
   "metadata": {},
   "outputs": [
    {
     "name": "stdout",
     "output_type": "stream",
     "text": [
      "Array:\n",
      "[0 1 2 3 4 5 6 7 8 9]\n",
      "Data type:\tint32\n",
      "Array shape:\t(4, 3)\n",
      "\n",
      "Square root:\n",
      "Array:\n",
      "[0.         1.         1.41421356 1.73205081 2.         2.23606798\n",
      " 2.44948974 2.64575131 2.82842712 3.        ]\n",
      "Data type:\tint32\n",
      "Array shape:\t(4, 3)\n",
      "\n"
     ]
    }
   ],
   "source": [
    "array = np.arange(10)\n",
    "array_info(array)\n",
    "\n",
    "print(\"Square root:\")\n",
    "root_array = np.sqrt(array)\n",
    "array_info(root_array)"
   ]
  },
  {
   "cell_type": "markdown",
   "id": "46caf48e",
   "metadata": {},
   "source": [
    "# Logrithm"
   ]
  },
  {
   "cell_type": "code",
   "execution_count": 32,
   "id": "53682f67",
   "metadata": {},
   "outputs": [
    {
     "name": "stdout",
     "output_type": "stream",
     "text": [
      "Array:\n",
      "[ 0.          2.71828183  7.3890561   1.         10.        ]\n",
      "Data type:\tint32\n",
      "Array shape:\t(4, 3)\n",
      "\n",
      "Logrithm:\n",
      "Array:\n",
      "[      -inf 1.         2.         0.         2.30258509]\n",
      "Data type:\tint32\n",
      "Array shape:\t(4, 3)\n",
      "\n"
     ]
    },
    {
     "name": "stderr",
     "output_type": "stream",
     "text": [
      "C:\\Users\\nihar\\AppData\\Local\\Temp\\ipykernel_33060\\2352674282.py:5: RuntimeWarning: divide by zero encountered in log\n",
      "  log_array = np.log(array)\n"
     ]
    }
   ],
   "source": [
    "array = np.array([0, np.exp(1), np.exp(1)**2, 1, 10])\n",
    "array_info(array)\n",
    "\n",
    "print('Logrithm:')\n",
    "log_array = np.log(array)\n",
    "array_info(log_array)"
   ]
  },
  {
   "cell_type": "markdown",
   "id": "f7c26673",
   "metadata": {},
   "source": [
    "# Power"
   ]
  },
  {
   "cell_type": "code",
   "execution_count": 36,
   "id": "014c89f7",
   "metadata": {},
   "outputs": [
    {
     "name": "stdout",
     "output_type": "stream",
     "text": [
      "Array:\n",
      "[0 1 2 3 4 5]\n",
      "Data type:\tint32\n",
      "Array shape:\t(4, 3)\n",
      "\n",
      "Power:\n",
      "Array:\n",
      "[  0   1   8  27  64 125]\n",
      "Data type:\tint32\n",
      "Array shape:\t(4, 3)\n",
      "\n"
     ]
    }
   ],
   "source": [
    "array = np.arange(0,6, dtype=np.int64)\n",
    "array_info(array)\n",
    "\n",
    "print('Power:')\n",
    "pow_array = np.power(array, 3)\n",
    "array_info(pow_array)"
   ]
  },
  {
   "cell_type": "markdown",
   "id": "b2ecea6d",
   "metadata": {},
   "source": [
    "# Clip Values"
   ]
  },
  {
   "cell_type": "code",
   "execution_count": 37,
   "id": "61f96e19",
   "metadata": {},
   "outputs": [
    {
     "name": "stdout",
     "output_type": "stream",
     "text": [
      "Array:\n",
      "[[0.24767645 0.37994335 0.30535833]\n",
      " [0.98894037 0.94818368 0.49062695]\n",
      " [0.91514595 0.87928644 0.67746723]]\n",
      "Data type:\tint32\n",
      "Array shape:\t(4, 3)\n",
      "\n",
      "Clipped between 0.2 and 0.5\n",
      "Array:\n",
      "[[0.24767645 0.37994335 0.30535833]\n",
      " [0.5        0.5        0.49062695]\n",
      " [0.5        0.5        0.5       ]]\n",
      "Data type:\tint32\n",
      "Array shape:\t(4, 3)\n",
      "\n",
      "Clipped to 0.2\n",
      "Array:\n",
      "[[0.24767645 0.37994335 0.30535833]\n",
      " [0.98894037 0.94818368 0.49062695]\n",
      " [0.91514595 0.87928644 0.67746723]]\n",
      "Data type:\tint32\n",
      "Array shape:\t(4, 3)\n",
      "\n"
     ]
    }
   ],
   "source": [
    "array = np.random.random((3,3))\n",
    "array_info(array)\n",
    "\n",
    "print('Clipped between 0.2 and 0.5')\n",
    "cliped_array = np.clip(array, 0.2, 0.5)\n",
    "array_info(cliped_array)\n",
    "\n",
    "print('Clipped to 0.2')\n",
    "cliped_array = np.clip(array, 0.2, np.inf)\n",
    "array_info(cliped_array)"
   ]
  }
 ],
 "metadata": {
  "kernelspec": {
   "display_name": "Python 3 (ipykernel)",
   "language": "python",
   "name": "python3"
  },
  "language_info": {
   "codemirror_mode": {
    "name": "ipython",
    "version": 3
   },
   "file_extension": ".py",
   "mimetype": "text/x-python",
   "name": "python",
   "nbconvert_exporter": "python",
   "pygments_lexer": "ipython3",
   "version": "3.11.8"
  }
 },
 "nbformat": 4,
 "nbformat_minor": 5
}
