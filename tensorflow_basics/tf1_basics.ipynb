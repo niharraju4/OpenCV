{
 "cells": [
  {
   "cell_type": "code",
   "execution_count": 1,
   "id": "71f353d8-68dd-4eb6-b1ee-6e4d2b24b9ff",
   "metadata": {},
   "outputs": [
    {
     "name": "stdout",
     "output_type": "stream",
     "text": [
      "WARNING:tensorflow:From C:\\Users\\nihar\\anaconda3\\Lib\\site-packages\\keras\\src\\losses.py:2976: The name tf.losses.sparse_softmax_cross_entropy is deprecated. Please use tf.compat.v1.losses.sparse_softmax_cross_entropy instead.\n",
      "\n"
     ]
    }
   ],
   "source": [
    "import tensorflow as tf\n",
    "import numpy as np\n",
    "import random \n",
    "import matplotlib.pyplot as plt\n"
   ]
  },
  {
   "cell_type": "code",
   "execution_count": 2,
   "id": "18c144ba-48bd-4003-afc2-5a8c6fb90015",
   "metadata": {
    "tags": []
   },
   "outputs": [],
   "source": [
    "SEED_VALUE = 42\n",
    "\n",
    "#fix random number of seeds\n",
    "random.seed(SEED_VALUE)\n",
    "np.random.seed(SEED_VALUE)\n",
    "tf.random.set_seed(SEED_VALUE)\n"
   ]
  },
  {
   "cell_type": "markdown",
   "id": "de2c07ed-5f3b-49c1-bbbb-96baad4cf7fa",
   "metadata": {
    "tags": []
   },
   "source": [
    "# Tensorflow Constant and variable"
   ]
  },
  {
   "cell_type": "code",
   "execution_count": 4,
   "id": "0bc1de98-f796-4f1f-b46f-308f27351f24",
   "metadata": {
    "tags": []
   },
   "outputs": [
    {
     "name": "stdout",
     "output_type": "stream",
     "text": [
      "tf.Tensor(3, shape=(), dtype=int32)\n",
      "tf.Tensor(3.1415927, shape=(), dtype=float32)\n",
      "tf.Tensor(3.141592654, shape=(), dtype=float64)\n"
     ]
    }
   ],
   "source": [
    "rank0_tensor = tf.constant(3)\n",
    "print(rank0_tensor)\n",
    "\n",
    "rank0_tensor = tf.constant(3.141592654)\n",
    "print(rank0_tensor)\n",
    "\n",
    "rank0_tensor = tf.constant(3.141592654, dtype=tf.float64)\n",
    "print(rank0_tensor)"
   ]
  },
  {
   "cell_type": "code",
   "execution_count": 5,
   "id": "4507ee55-97dd-4961-a468-e8541013bdf3",
   "metadata": {
    "tags": []
   },
   "outputs": [
    {
     "name": "stdout",
     "output_type": "stream",
     "text": [
      "tf.Tensor([2. 4. 6.], shape=(3,), dtype=float32)\n"
     ]
    }
   ],
   "source": [
    "#CREATE A RANK-1 constant in tensorflow\n",
    "rank_1_tensor = tf.constant([2.0, 4.0, 6.0])\n",
    "print(rank_1_tensor)"
   ]
  },
  {
   "cell_type": "code",
   "execution_count": 6,
   "id": "e281bd70-bf34-45e0-baaa-05d64d01b037",
   "metadata": {
    "tags": []
   },
   "outputs": [
    {
     "name": "stdout",
     "output_type": "stream",
     "text": [
      "tf.Tensor(\n",
      "[[1 2]\n",
      " [3 4]\n",
      " [5 6]], shape=(3, 2), dtype=int32)\n"
     ]
    }
   ],
   "source": [
    "#You can also explicity define the datatype while creating the tensor\n",
    "rank_2_tensor = tf.constant([[1,2],\n",
    "                             [3,4],\n",
    "                             [5,6]], dtype=tf.int32)\n",
    "print(rank_2_tensor)"
   ]
  },
  {
   "cell_type": "code",
   "execution_count": 7,
   "id": "81e10852-4aa6-4f6f-80f0-02b61ba5d363",
   "metadata": {
    "tags": []
   },
   "outputs": [
    {
     "name": "stdout",
     "output_type": "stream",
     "text": [
      "tf.Tensor(\n",
      "[[1 2 3]\n",
      " [4 5 6]], shape=(2, 3), dtype=int32)\n",
      "\n",
      "\n",
      "tf.Tensor(\n",
      "[[ 7  8  9]\n",
      " [10 11 12]], shape=(2, 3), dtype=int32)\n",
      "\n",
      "\n",
      "tf.Tensor(\n",
      "[[ 1  2  3]\n",
      " [ 4  5  6]\n",
      " [ 7  8  9]\n",
      " [10 11 12]], shape=(4, 3), dtype=int32)\n",
      "\n",
      "\n",
      "tf.Tensor(\n",
      "[[ 1  2  3  7  8  9]\n",
      " [ 4  5  6 10 11 12]], shape=(2, 6), dtype=int32)\n"
     ]
    }
   ],
   "source": [
    "#Create two constant tensors\n",
    "t1 = tf.constant([[1,2,3],[4,5,6]])\n",
    "t2 = tf.constant([[7,8,9],[10,11,12]])\n",
    "\n",
    "print(t1)\n",
    "print('\\n')\n",
    "print(t2)\n",
    "print('\\n')\n",
    "\n",
    "#Convatenate tensors along axis =0\n",
    "print(tf.concat([t1, t2], axis=0))\n",
    "print('\\n')\n",
    "\n",
    "#Concatenate tensors along axis =1\n",
    "print(tf.concat([t1,t2], axis=1))"
   ]
  },
  {
   "cell_type": "code",
   "execution_count": 8,
   "id": "bafa3aa4-d136-416f-b7d8-68d1fe89b69f",
   "metadata": {
    "tags": []
   },
   "outputs": [],
   "source": [
    "# THE unique thing about the tensorflow is that it is used in the deep learning for using ndimenstional multiplication, divison, subtract,addition and more assigned operator functions\n",
    "# the = operator is used to assigna a new valie to a variable, youy must use the assign() method as shon as below"
   ]
  },
  {
   "cell_type": "code",
   "execution_count": 9,
   "id": "eb93e1a3-09eb-4048-ba21-582e8dd378e1",
   "metadata": {
    "tags": []
   },
   "outputs": [
    {
     "name": "stdout",
     "output_type": "stream",
     "text": [
      "\\Error: A tensor object does not support item assingnment\n"
     ]
    }
   ],
   "source": [
    "# create a tensor variable\n",
    "\n",
    "tensor = tf.Variable([2,4])\n",
    "\n",
    "# Attempt to assign a new value to the 0th tensor element\n",
    "try:\n",
    "    tensor[0]=11\n",
    "    print('Tensor: ', tensor)\n",
    "except TypeError:\n",
    "    print(\"\\Error: A tensor object does not support item assingnment\")"
   ]
  },
  {
   "cell_type": "raw",
   "id": "7b6be0e1-4d7b-49be-84cd-2a7befc165e3",
   "metadata": {
    "tags": []
   },
   "source": [
    "# In tensorflow you cant chnage a tensor by left- hand assignment. Instead , you must use assign() method as shown below."
   ]
  },
  {
   "cell_type": "code",
   "execution_count": 10,
   "id": "4f3065d8-7709-4c29-89f3-cf12e52ec002",
   "metadata": {
    "tags": []
   },
   "outputs": [
    {
     "name": "stdout",
     "output_type": "stream",
     "text": [
      "tf.Tensor(42, shape=(), dtype=int32)\n",
      "tf.Tensor(4, shape=(), dtype=int32)\n"
     ]
    }
   ],
   "source": [
    "# You must use the assign() method to assign a new value to a tensofrlow variable\n",
    "tensor[0].assign(42)\n",
    "print(tensor[0])\n",
    "print(tensor[1])"
   ]
  },
  {
   "cell_type": "code",
   "execution_count": 11,
   "id": "2021d81a-d4ff-4707-baca-238efe40eda1",
   "metadata": {
    "tags": []
   },
   "outputs": [],
   "source": [
    "# So what is tf.Variable? you can think of it as a wrappper around a tensor whose value can be changed by running operations on it."
   ]
  },
  {
   "cell_type": "raw",
   "id": "8a4d85f0-8580-41af-ad41-95bf053e29a2",
   "metadata": {
    "tags": []
   },
   "source": [
    "#tensorflow reduce functions\n",
    "There is a class of functions in tensorflow that are used to compute various quantities of a tensor. Ulike numpy, these functions start with the name 'reduce'\n",
    "The notation stems from the face that these functions can compute a given quantity along any given axis of a tensor. If the axis is not specified, then the quanitity is \n",
    "computed acrtoss all the taxes"
   ]
  },
  {
   "cell_type": "code",
   "execution_count": 32,
   "id": "72a4dad1-84e8-4f97-908a-4d9bb8a9af67",
   "metadata": {},
   "outputs": [
    {
     "name": "stdout",
     "output_type": "stream",
     "text": [
      "tf.Tensor(\n",
      "[[1.4241445 4.016162  3.3360183 6.816542  6.908702 ]\n",
      " [2.2069418 6.1336193 9.588975  3.314948  2.8096783]\n",
      " [5.807008  1.739465  9.826159  9.146085  7.685435 ]], shape=(3, 5), dtype=float32)\n",
      "\n",
      "Computed over all axes:\n",
      "\n",
      "min:  tf.Tensor(1.4241445, shape=(), dtype=float32)\n",
      "max:  tf.Tensor(9.826159, shape=(), dtype=float32)\n",
      "xmean:  tf.Tensor(5.3839927, shape=(), dtype=float32)\n",
      "sum:  tf.Tensor(80.75989, shape=(), dtype=float32)\n"
     ]
    }
   ],
   "source": [
    "#Create some data\n",
    "x=10*tf.random.uniform(shape=[3,5])\n",
    "print(x)\n",
    "\n",
    "#Compute the following quantities for allaxes\n",
    "xmin = tf.reduce_min(x)\n",
    "xmax = tf.reduce_max(x)\n",
    "xmean = tf.reduce_mean(x)\n",
    "xsum = tf.reduce_sum(x)\n",
    "\n",
    "print('\\nComputed over all axes:\\n')\n",
    "print('min: ', xmin)\n",
    "print('max: ', xmax)\n",
    "print('xmean: ', xmean)\n",
    "print('sum: ', xsum)\n",
    "\n",
    "#Compute the quantities for axis =1\n",
    "xmin = tf.reduce_min (x, axis=1)\n",
    "xmax = tf.reduce_max (x, axis=1)\n",
    "xmean = tf.reduce_mean (x, axis=1)\n",
    "xsum = tf.reduce_sum (x, axis=1)\n"
   ]
  },
  {
   "cell_type": "raw",
   "id": "18534153-ca56-4517-ad70-0f4cf51ec246",
   "metadata": {},
   "source": [
    "3 TensorFlow Indexing (gather)\n",
    "NumPy array indexing\n",
    "Let's first review how NumPy arrays can be easily indexed using another NumPy array."
   ]
  },
  {
   "cell_type": "code",
   "execution_count": 42,
   "id": "c8a9ec23-93e2-4751-80aa-c234a22c9d1e",
   "metadata": {
    "tags": []
   },
   "outputs": [
    {
     "name": "stdout",
     "output_type": "stream",
     "text": [
      "data: \n",
      " [1.07891427 0.31429186 6.36410411 3.14355981 5.08570691 9.07566474\n",
      " 2.49292229 4.10382923 7.55551139 2.28798165 0.7697991  2.89751453\n",
      " 1.61221287 9.29697652 8.0812038  6.33403757 8.7146059  8.03672077\n",
      " 1.86570059 8.92558998 5.39342242 8.07440155 8.960913   3.18003475]\n",
      "\n",
      "\n",
      "indices: [13  1 20  3 11]\n",
      "\n",
      "\n",
      "selected_data:  [9.29697652 0.31429186 5.39342242 3.14355981 2.89751453]\n"
     ]
    }
   ],
   "source": [
    "# Create some data.\n",
    "num_data = 24\n",
    "data = np.random.uniform(0, 10, num_data)\n",
    "print('data: \\n', data)\n",
    "print('\\n')\n",
    "\n",
    "#Crete an array of random indices\n",
    "indices = np.random.choice(data.shape[0], 5, replace=False)\n",
    "print('indices:', indices)\n",
    "print('\\n')\n",
    "\n",
    "selected_data = data[indices]\n",
    "\n",
    "print('selected_data: ', selected_data)"
   ]
  },
  {
   "cell_type": "raw",
   "id": "4d14b644-28c8-49a7-ac5c-051f805b1f25",
   "metadata": {},
   "source": [
    "TensorFlow array indexing\n",
    "When using TensorFlow variables, we need to make use of the tf.gather() method to achieve the functionality as shown above in NumPy."
   ]
  },
  {
   "cell_type": "code",
   "execution_count": 50,
   "id": "73d49dca-f31e-4ed2-a9cb-393bf9a4f785",
   "metadata": {
    "tags": []
   },
   "outputs": [
    {
     "name": "stdout",
     "output_type": "stream",
     "text": [
      "data: \n",
      " tf.Tensor(\n",
      "[0.9198024  0.9021473  0.41526616 0.08292842 0.10040832 0.06153822\n",
      " 0.7671492  0.05545342 0.13344252 0.874243   0.12639618 0.07750273\n",
      " 0.8898996  0.8573204  0.40581453 0.05270422 0.8703762  0.39350355\n",
      " 0.41915298 0.32164288 0.8265872  0.5453614  0.64476144 0.95184267], shape=(24,), dtype=float32)\n",
      "\n",
      "\n",
      "indices: tf.Tensor([ 8  9  9 18  7], shape=(5,), dtype=int32)\n",
      "\n",
      "\n",
      "selected_data: tf.Tensor([0.13344252 0.874243   0.874243   0.41915298 0.05545342], shape=(5,), dtype=float32)\n"
     ]
    }
   ],
   "source": [
    "# Create some data.\n",
    "num_data = 24\n",
    "data = tf.random.uniform(shape=[num_data])\n",
    "print('data: \\n', data)\n",
    "print('\\n')\n",
    "\n",
    "indices = tf.random.uniform([5], minval=0, maxval=len(data)-1, dtype=tf.dtypes.int32)\n",
    "print('indices:', indices)\n",
    "print('\\n')\n",
    "\n",
    "#USE GATHER() method to index one tensoe by aanother tensor\n",
    "selected_data = tf.gather(data, indices)\n",
    "print('selected_data:', selected_data)"
   ]
  },
  {
   "cell_type": "raw",
   "id": "367c37c8-fdb0-48e2-9932-58962d1872a7",
   "metadata": {},
   "source": [
    "Let's now assume we have a rank-2 tensor and would like to select specific rows within the tensor. This can easily be accomplished with the gather() method where we specify a list of the row indices and also specify the axis along which those indices are applied."
   ]
  },
  {
   "cell_type": "code",
   "execution_count": 64,
   "id": "2f6412b3-acfb-42e3-9d3e-48754be20776",
   "metadata": {
    "tags": []
   },
   "outputs": [
    {
     "name": "stdout",
     "output_type": "stream",
     "text": [
      "tf.Tensor(\n",
      "[[-0.34223905 -0.5263015   0.4441634 ]\n",
      " [-0.11258354  2.249716   -0.06672636]\n",
      " [-0.52781147  0.62668514  0.96659875]\n",
      " [-0.09376683 -0.37389693 -0.09987012]\n",
      " [ 1.0982645  -0.23806235  1.6244484 ]], shape=(5, 3), dtype=float32)\n",
      "\n",
      "\n",
      "1st, 3rd, and 5th rows:\n",
      "tf.Tensor(\n",
      "[[-0.34223905 -0.5263015   0.4441634 ]\n",
      " [-0.52781147  0.62668514  0.96659875]\n",
      " [ 1.0982645  -0.23806235  1.6244484 ]], shape=(3, 3), dtype=float32)\n",
      "\n",
      "\n",
      "1st and 3rd, cols:\n",
      "tf.Tensor(\n",
      "[[-0.34223905  0.4441634 ]\n",
      " [-0.11258354 -0.06672636]\n",
      " [-0.52781147  0.96659875]\n",
      " [-0.09376683 -0.09987012]\n",
      " [ 1.0982645   1.6244484 ]], shape=(5, 2), dtype=float32)\n"
     ]
    }
   ],
   "source": [
    "# Create a random tensor.\n",
    "tensor = tf.random.normal(shape=[5, 3])\n",
    "print(tensor)\n",
    "print('\\n')\n",
    "\n",
    "# Create a tensor with indices.\n",
    "rows = tf.constant([0, 2, 4])\n",
    "cols = tf.constant([0, 2])\n",
    "print('1st, 3rd, and 5th rows:')\n",
    "\n",
    "\n",
    "# Access specific rows of a tensor by specifying the \n",
    "# indices of the rows along with the row axis.\n",
    "print(tf.gather(tensor, rows, axis=0))\n",
    "print('\\n')\n",
    "print('1st and 3rd, cols:')\n",
    "\n",
    "# Access specific cols of a tensor by specifying the \n",
    "# indices of the cols along with the col axis.\n",
    "print(tf.gather(tensor, cols, axis=1))"
   ]
  },
  {
   "cell_type": "raw",
   "id": "3752cc5c-f303-4b6f-94a2-4bf7ff1e213a",
   "metadata": {},
   "source": [
    "4 NumPy / TensorFlow Interoperability\n",
    "When using TensorFlow it is very common to also make use of NumPy, and it is very common to convert between NumPy and Tensor Flow variables in code you are developing. In this section, we will demonstrate the use of several built-in functions that allow you to convert back and forth between and NumPy and TensorFlow.\n",
    "\n",
    "tf.convert_to_tensor(python_object)\n",
    "tensor.numpy()"
   ]
  },
  {
   "cell_type": "code",
   "execution_count": 68,
   "id": "ea7836ac-5b1d-4298-9fda-d020ce215e8c",
   "metadata": {
    "tags": []
   },
   "outputs": [
    {
     "name": "stdout",
     "output_type": "stream",
     "text": [
      "List:    [1, 2]\n",
      "Array:   [1 2]\n",
      "Tensor:  tf.Tensor([1 2], shape=(2,), dtype=int32)\n",
      "Tensor:  tf.Tensor([1 2], shape=(2,), dtype=int32)\n",
      "Array:   [1 2]\n"
     ]
    }
   ],
   "source": [
    "# Create a python list.\n",
    "python_list = [1, 2]\n",
    "\n",
    "# Create a NumPy array from the list.\n",
    "numpy_array = np.array(python_list)\n",
    "\n",
    "# Create a tensor from list.\n",
    "tensor_from_list = tf.convert_to_tensor(python_list)\n",
    "\n",
    "#create a tensor from a Numpy array\n",
    "tensor_from_array = tf.convert_to_tensor(numpy_array)\n",
    "\n",
    "array_from_tensor = tensor_from_array.numpy()\n",
    "\n",
    "print('List:   ', python_list)\n",
    "print('Array:  ', numpy_array)\n",
    "print('Tensor: ', tensor_from_list)\n",
    "print('Tensor: ', tensor_from_array)\n",
    "print('Array:  ', array_from_tensor)"
   ]
  }
 ],
 "metadata": {
  "kernelspec": {
   "display_name": "Python 3 (ipykernel)",
   "language": "python",
   "name": "python3"
  },
  "language_info": {
   "codemirror_mode": {
    "name": "ipython",
    "version": 3
   },
   "file_extension": ".py",
   "mimetype": "text/x-python",
   "name": "python",
   "nbconvert_exporter": "python",
   "pygments_lexer": "ipython3",
   "version": "3.11.8"
  }
 },
 "nbformat": 4,
 "nbformat_minor": 5
}
