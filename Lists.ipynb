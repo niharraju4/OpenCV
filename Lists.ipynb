{
 "cells": [
  {
   "cell_type": "code",
   "execution_count": 1,
   "id": "92f12327-7f9b-499d-9057-892407bac531",
   "metadata": {},
   "outputs": [],
   "source": [
    "names = ['john', 'paul', 'george']"
   ]
  },
  {
   "cell_type": "code",
   "execution_count": null,
   "id": "ce3eff0f-cdc7-4100-a37e-f27856ad9de9",
   "metadata": {},
   "outputs": [],
   "source": []
  },
  {
   "cell_type": "code",
   "execution_count": 2,
   "id": "09bd12ff-c693-408e-8e35-2caa064a951a",
   "metadata": {},
   "outputs": [
    {
     "data": {
      "text/plain": [
       "[0, 1, 2, 3]"
      ]
     },
     "execution_count": 2,
     "metadata": {},
     "output_type": "execute_result"
    }
   ],
   "source": [
    "vals = list(range(4))\n",
    "vals"
   ]
  },
  {
   "cell_type": "code",
   "execution_count": 3,
   "id": "7b53ab44-79d8-4b66-b61d-ace4a8870a79",
   "metadata": {},
   "outputs": [
    {
     "name": "stdout",
     "output_type": "stream",
     "text": [
      "['__add__', '__class__', '__class_getitem__', '__contains__', '__delattr__', '__delitem__', '__dir__', '__doc__', '__eq__', '__format__', '__ge__', '__getattribute__', '__getitem__', '__getstate__', '__gt__', '__hash__', '__iadd__', '__imul__', '__init__', '__init_subclass__', '__iter__', '__le__', '__len__', '__lt__', '__mul__', '__ne__', '__new__', '__reduce__', '__reduce_ex__', '__repr__', '__reversed__', '__rmul__', '__setattr__', '__setitem__', '__sizeof__', '__str__', '__subclasshook__', 'append', 'clear', 'copy', 'count', 'extend', 'index', 'insert', 'pop', 'remove', 'reverse', 'sort']\n"
     ]
    }
   ],
   "source": [
    "print(dir(names))"
   ]
  },
  {
   "cell_type": "code",
   "execution_count": 4,
   "id": "74155484-196c-402c-a6d5-7622f2802b55",
   "metadata": {},
   "outputs": [
    {
     "name": "stdout",
     "output_type": "stream",
     "text": [
      "\u001b[1;31mSignature:\u001b[0m \u001b[0mnames\u001b[0m\u001b[1;33m.\u001b[0m\u001b[0mappend\u001b[0m\u001b[1;33m(\u001b[0m\u001b[0mobject\u001b[0m\u001b[1;33m,\u001b[0m \u001b[1;33m/\u001b[0m\u001b[1;33m)\u001b[0m\u001b[1;33m\u001b[0m\u001b[1;33m\u001b[0m\u001b[0m\n",
      "\u001b[1;31mDocstring:\u001b[0m Append object to the end of the list.\n",
      "\u001b[1;31mType:\u001b[0m      builtin_function_or_method"
     ]
    }
   ],
   "source": [
    "names.append?"
   ]
  },
  {
   "cell_type": "code",
   "execution_count": 5,
   "id": "5db14e84-f63e-4339-b312-64f3aee9261d",
   "metadata": {},
   "outputs": [
    {
     "name": "stdout",
     "output_type": "stream",
     "text": [
      "Help on built-in function append:\n",
      "\n",
      "append(object, /) method of builtins.list instance\n",
      "    Append object to the end of the list.\n",
      "\n"
     ]
    }
   ],
   "source": [
    "help(names. append)"
   ]
  },
  {
   "cell_type": "markdown",
   "id": "c739705d-6ada-4e7a-9dd8-057f9adaec3d",
   "metadata": {},
   "source": []
  },
  {
   "cell_type": "code",
   "execution_count": 6,
   "id": "9c8190f3-6980-4d35-b7a3-1091f89a008e",
   "metadata": {},
   "outputs": [],
   "source": [
    "names.append('Nihar')"
   ]
  },
  {
   "cell_type": "code",
   "execution_count": 7,
   "id": "44def89e-dff2-4ef1-831e-84018dd26a1a",
   "metadata": {},
   "outputs": [
    {
     "data": {
      "text/plain": [
       "['john', 'paul', 'george', 'Nihar']"
      ]
     },
     "execution_count": 7,
     "metadata": {},
     "output_type": "execute_result"
    }
   ],
   "source": [
    "names"
   ]
  },
  {
   "cell_type": "code",
   "execution_count": 22,
   "id": "a86df048",
   "metadata": {},
   "outputs": [
    {
     "data": {
      "text/plain": [
       "3"
      ]
     },
     "execution_count": 22,
     "metadata": {},
     "output_type": "execute_result"
    }
   ],
   "source": [
    "names.index('Nihar')"
   ]
  },
  {
   "cell_type": "code",
   "execution_count": 8,
   "id": "8fdd7375-dac1-4c55-9f7f-461753c076b3",
   "metadata": {},
   "outputs": [
    {
     "data": {
      "text/plain": [
       "'paul'"
      ]
     },
     "execution_count": 8,
     "metadata": {},
     "output_type": "execute_result"
    }
   ],
   "source": [
    "names[1]"
   ]
  },
  {
   "cell_type": "code",
   "execution_count": 9,
   "id": "f3f3924e-0b78-479f-a196-0ee875ee6f03",
   "metadata": {},
   "outputs": [
    {
     "data": {
      "text/plain": [
       "'paul'"
      ]
     },
     "execution_count": 9,
     "metadata": {},
     "output_type": "execute_result"
    }
   ],
   "source": [
    "names.__getitem__(1)"
   ]
  },
  {
   "cell_type": "code",
   "execution_count": 10,
   "id": "42afb0a1-6da4-4b5e-9f46-8027d7bdfbce",
   "metadata": {},
   "outputs": [
    {
     "data": {
      "text/plain": [
       "['john', 'paul', 'george', 'Nihar']"
      ]
     },
     "execution_count": 10,
     "metadata": {},
     "output_type": "execute_result"
    }
   ],
   "source": [
    "names"
   ]
  },
  {
   "cell_type": "code",
   "execution_count": 11,
   "id": "d903bb5b-15f0-4c6d-a6d5-934b0ae15014",
   "metadata": {},
   "outputs": [],
   "source": [
    "names[1] = 'Paul'"
   ]
  },
  {
   "cell_type": "code",
   "execution_count": 12,
   "id": "ff56edef-510b-44c4-84f8-b48df8e82b97",
   "metadata": {},
   "outputs": [
    {
     "data": {
      "text/plain": [
       "['john', 'Paul', 'george', 'Nihar']"
      ]
     },
     "execution_count": 12,
     "metadata": {},
     "output_type": "execute_result"
    }
   ],
   "source": [
    "names"
   ]
  },
  {
   "cell_type": "code",
   "execution_count": 13,
   "id": "08d21d0a-2678-48fc-b205-e52d6b83ac16",
   "metadata": {},
   "outputs": [
    {
     "data": {
      "text/plain": [
       "False"
      ]
     },
     "execution_count": 13,
     "metadata": {},
     "output_type": "execute_result"
    }
   ],
   "source": [
    "'paul' in names"
   ]
  },
  {
   "cell_type": "code",
   "execution_count": 14,
   "id": "cdb52a04-bd28-495f-bcef-b73e41ddf24b",
   "metadata": {},
   "outputs": [
    {
     "data": {
      "text/plain": [
       "False"
      ]
     },
     "execution_count": 14,
     "metadata": {},
     "output_type": "execute_result"
    }
   ],
   "source": [
    "names.__contains__('paul')"
   ]
  },
  {
   "cell_type": "code",
   "execution_count": null,
   "id": "a53d3e96-00e8-44d1-94f7-83ea5f0b2310",
   "metadata": {},
   "outputs": [],
   "source": []
  },
  {
   "cell_type": "code",
   "execution_count": null,
   "id": "8f7d3f77-d289-4851-81b6-99e3d108b56c",
   "metadata": {},
   "outputs": [],
   "source": []
  },
  {
   "cell_type": "code",
   "execution_count": null,
   "id": "8622b74e-e3c5-41fc-8920-fb42afc8703f",
   "metadata": {},
   "outputs": [],
   "source": []
  },
  {
   "cell_type": "code",
   "execution_count": null,
   "id": "bb2c2051-3a1f-4ffd-8d28-2c258e1a3079",
   "metadata": {},
   "outputs": [],
   "source": []
  }
 ],
 "metadata": {
  "kernelspec": {
   "display_name": "Python 3 (ipykernel)",
   "language": "python",
   "name": "python3"
  },
  "language_info": {
   "codemirror_mode": {
    "name": "ipython",
    "version": 3
   },
   "file_extension": ".py",
   "mimetype": "text/x-python",
   "name": "python",
   "nbconvert_exporter": "python",
   "pygments_lexer": "ipython3",
   "version": "3.11.8"
  }
 },
 "nbformat": 4,
 "nbformat_minor": 5
}
