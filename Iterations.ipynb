{
 "cells": [
  {
   "cell_type": "code",
   "execution_count": 2,
   "id": "a2d9dce5-76bc-4b76-bfdd-25c71020de62",
   "metadata": {},
   "outputs": [
    {
     "name": "stdout",
     "output_type": "stream",
     "text": [
      "1\n",
      "2\n",
      "3\n",
      "4\n",
      "5\n",
      "6\n"
     ]
    }
   ],
   "source": [
    "for numbers in [1,2,3,4,5,6]:\n",
    "    print(numbers)"
   ]
  },
  {
   "cell_type": "code",
   "execution_count": 6,
   "id": "1af94159-08d1-4445-a1e4-04c218c19ffa",
   "metadata": {},
   "outputs": [
    {
     "name": "stdout",
     "output_type": "stream",
     "text": [
      "1\n",
      "2\n",
      "3\n",
      "4\n",
      "5\n",
      "6\n"
     ]
    }
   ],
   "source": [
    "for number in range(1,7):\n",
    "    print(number)"
   ]
  },
  {
   "cell_type": "code",
   "execution_count": 7,
   "id": "62d72e4b-b11b-4979-881d-2ff78c1668df",
   "metadata": {},
   "outputs": [
    {
     "data": {
      "text/plain": [
       "range(0, 6)"
      ]
     },
     "execution_count": 7,
     "metadata": {},
     "output_type": "execute_result"
    }
   ],
   "source": [
    "range(6) # returns an iterable containing numbers from start tup to but not included end"
   ]
  },
  {
   "cell_type": "code",
   "execution_count": 8,
   "id": "0d36c17c-8fff-4dc4-8084-e6c8c81da964",
   "metadata": {},
   "outputs": [
    {
     "data": {
      "text/plain": [
       "[0, 1, 2, 3, 4, 5]"
      ]
     },
     "execution_count": 8,
     "metadata": {},
     "output_type": "execute_result"
    }
   ],
   "source": [
    "list(range(6))"
   ]
  },
  {
   "cell_type": "code",
   "execution_count": 9,
   "id": "1c32126f-c971-4fc8-afd7-56b6e8cac24b",
   "metadata": {},
   "outputs": [
    {
     "data": {
      "text/plain": [
       "[2, 3, 4, 5]"
      ]
     },
     "execution_count": 9,
     "metadata": {},
     "output_type": "execute_result"
    }
   ],
   "source": [
    "list(range(2, 6))"
   ]
  },
  {
   "cell_type": "markdown",
   "id": "bb8cb783-c417-4c6a-882d-d06afdb637db",
   "metadata": {},
   "source": [
    "## Range"
   ]
  },
  {
   "cell_type": "code",
   "execution_count": 12,
   "id": "33ca0a27-69b5-4d24-b303-4407ec9936e3",
   "metadata": {},
   "outputs": [
    {
     "name": "stdout",
     "output_type": "stream",
     "text": [
      "0 cat\n",
      "1 dog\n",
      "2 bird\n"
     ]
    }
   ],
   "source": [
    "##JAVA/ C STYLE OF object in array access(BAD):\n",
    "animals = [\"cat\",  \"dog\", \"bird\"]\n",
    "for index in range(len(animals)):\n",
    "    print(index, animals[index])"
   ]
  },
  {
   "cell_type": "code",
   "execution_count": 15,
   "id": "f09fbfde-1960-4312-ac3a-75e986635341",
   "metadata": {},
   "outputs": [
    {
     "name": "stdout",
     "output_type": "stream",
     "text": [
      "0 cat\n",
      "1 dog\n",
      "2 bird\n"
     ]
    }
   ],
   "source": [
    "# IF YOU NEED INDICIES USE ''ENUMERATE' ( TO REPLACE 'range(len(a_list))'');\n",
    "animals = [\"cat\",  \"dog\", \"bird\"]\n",
    "for index, value in enumerate(animals):\n",
    "    print(index, value)"
   ]
  },
  {
   "cell_type": "code",
   "execution_count": 16,
   "id": "0b4d8944-06f0-4872-92fc-fc1bc35546cd",
   "metadata": {},
   "outputs": [
    {
     "name": "stdout",
     "output_type": "stream",
     "text": [
      "0 cat\n"
     ]
    }
   ],
   "source": [
    "animals = [\"cat\",  \"dog\", \"bird\"]\n",
    "for index, value in enumerate(animals):\n",
    "    if value=='dog':\n",
    "        break\n",
    "    print(index, value)"
   ]
  },
  {
   "cell_type": "code",
   "execution_count": 17,
   "id": "e8694b14-c1b5-4a87-ab65-139f75aebd95",
   "metadata": {},
   "outputs": [
    {
     "name": "stdout",
     "output_type": "stream",
     "text": [
      "0 cat\n",
      "2 bird\n"
     ]
    }
   ],
   "source": [
    "animals = [\"cat\",  \"dog\", \"bird\"]\n",
    "for index, value in enumerate(animals):\n",
    "    if value=='dog':\n",
    "        continue\n",
    "    print(index, value)"
   ]
  },
  {
   "cell_type": "code",
   "execution_count": 23,
   "id": "a29deab7-cbb5-4d22-a22b-047491692df3",
   "metadata": {},
   "outputs": [
    {
     "name": "stdout",
     "output_type": "stream",
     "text": [
      "name\n",
      "cash\n"
     ]
    }
   ],
   "source": [
    "# Can loop over lists, strings, iterations, dictonaries, sequences like things\n",
    "my_dict = {\"name\": \"matt\", \"cash\":5.45}\n",
    "for key in my_dict:\n",
    "    print(key)"
   ]
  },
  {
   "cell_type": "code",
   "execution_count": 24,
   "id": "55e26ffb-c193-4865-8597-5fa4215cb5cc",
   "metadata": {},
   "outputs": [
    {
     "name": "stdout",
     "output_type": "stream",
     "text": [
      "matt\n",
      "5.45\n"
     ]
    }
   ],
   "source": [
    "for value in my_dict.values():\n",
    "    print(value)"
   ]
  },
  {
   "cell_type": "code",
   "execution_count": 25,
   "id": "159973c8-0003-4c8a-af04-25572ea4fd76",
   "metadata": {},
   "outputs": [
    {
     "name": "stdout",
     "output_type": "stream",
     "text": [
      "name matt\n",
      "cash 5.45\n"
     ]
    }
   ],
   "source": [
    "for key, value in my_dict.items():\n",
    "    print(key, value)"
   ]
  }
 ],
 "metadata": {
  "kernelspec": {
   "display_name": "Python 3 (ipykernel)",
   "language": "python",
   "name": "python3"
  },
  "language_info": {
   "codemirror_mode": {
    "name": "ipython",
    "version": 3
   },
   "file_extension": ".py",
   "mimetype": "text/x-python",
   "name": "python",
   "nbconvert_exporter": "python",
   "pygments_lexer": "ipython3",
   "version": "3.11.8"
  }
 },
 "nbformat": 4,
 "nbformat_minor": 5
}
