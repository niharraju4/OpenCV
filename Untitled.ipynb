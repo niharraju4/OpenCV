{
 "cells": [
  {
   "cell_type": "markdown",
   "id": "526a8164-0108-492b-ac72-7e5c7cb7fb32",
   "metadata": {},
   "source": [
    "# NUMPY[numerical python]"
   ]
  },
  {
   "cell_type": "code",
   "execution_count": 1,
   "id": "355c2b90",
   "metadata": {},
   "outputs": [
    {
     "name": "stdout",
     "output_type": "stream",
     "text": [
      "71\n"
     ]
    },
    {
     "data": {
      "text/plain": [
       "['__xor__',\n",
       " 'as_integer_ratio',\n",
       " 'bit_length',\n",
       " 'conjugate',\n",
       " 'denominator',\n",
       " 'from_bytes',\n",
       " 'imag',\n",
       " 'numerator',\n",
       " 'real',\n",
       " 'to_bytes']"
      ]
     },
     "execution_count": 1,
     "metadata": {},
     "output_type": "execute_result"
    }
   ],
   "source": [
    "a =3\n",
    "print(len(dir(a)))\n",
    "dir(a)[-10:]"
   ]
  },
  {
   "cell_type": "code",
   "execution_count": 2,
   "id": "5caf64a6-656c-4454-9308-3159fb785a5f",
   "metadata": {
    "tags": []
   },
   "outputs": [
    {
     "data": {
      "text/plain": [
       "[[0, 1], [10, 5], [7, 3]]"
      ]
     },
     "execution_count": 2,
     "metadata": {},
     "output_type": "execute_result"
    }
   ],
   "source": [
    "points= [[0,1],[10,5],[7,3]]\n",
    "points"
   ]
  },
  {
   "cell_type": "markdown",
   "id": "a84b3913-8afc-4095-965e-9d96bde230a5",
   "metadata": {},
   "source": [
    "# Random intgeres or random numbers"
   ]
  },
  {
   "cell_type": "code",
   "execution_count": 3,
   "id": "fedea50e-46f2-4476-bb8d-6516c7da72a9",
   "metadata": {
    "tags": []
   },
   "outputs": [
    {
     "data": {
      "text/plain": [
       "[[2, 39],\n",
       " [7, 44],\n",
       " [2, 16],\n",
       " [9, 14],\n",
       " [10, 42],\n",
       " [3, 29],\n",
       " [1, 13],\n",
       " [8, 6],\n",
       " [5, 12],\n",
       " [10, 19]]"
      ]
     },
     "execution_count": 3,
     "metadata": {},
     "output_type": "execute_result"
    }
   ],
   "source": [
    "from random import randint\n",
    "\n",
    "num_points = 10\n",
    "x_range = (0, 10)\n",
    "y_range = (0, 50)\n",
    "points = [[randint(*x_range), randint(*y_range)] for _ in range(num_points)]\n",
    "points"
   ]
  },
  {
   "cell_type": "code",
   "execution_count": 4,
   "id": "35b097de",
   "metadata": {},
   "outputs": [
    {
     "data": {
      "text/plain": [
       "array([[ 2, 39],\n",
       "       [ 7, 44],\n",
       "       [ 2, 16],\n",
       "       [ 9, 14],\n",
       "       [10, 42],\n",
       "       [ 3, 29],\n",
       "       [ 1, 13],\n",
       "       [ 8,  6],\n",
       "       [ 5, 12],\n",
       "       [10, 19]])"
      ]
     },
     "execution_count": 4,
     "metadata": {},
     "output_type": "execute_result"
    }
   ],
   "source": [
    "import numpy as np\n",
    "points = np.array(points)\n",
    "points"
   ]
  },
  {
   "cell_type": "markdown",
   "id": "84610b73-64bf-49df-85c0-bc36d34f9345",
   "metadata": {
    "tags": []
   },
   "source": [
    "# numpy function randint to create an ndarray of points"
   ]
  },
  {
   "cell_type": "code",
   "execution_count": 5,
   "id": "658bbbd6-54d1-462c-b8b7-7609dfd9a0ae",
   "metadata": {
    "tags": []
   },
   "outputs": [
    {
     "data": {
      "text/plain": [
       "array([[ 8, 41],\n",
       "       [ 1, 26],\n",
       "       [ 0, 32],\n",
       "       [ 4,  3],\n",
       "       [ 2, 25],\n",
       "       [ 9,  6],\n",
       "       [ 7, 16],\n",
       "       [ 5,  8],\n",
       "       [ 1, 42],\n",
       "       [ 1, 42]])"
      ]
     },
     "execution_count": 5,
     "metadata": {},
     "output_type": "execute_result"
    }
   ],
   "source": [
    "import numpy as np\n",
    "num_dims = 2\n",
    "num_points = 10\n",
    "x_range=(0, 11)\n",
    "y_range=(0, 51)\n",
    "points = np.random.randint(low=(x_range[0], y_range[0]), high=(x_range[1], y_range[1]), size=(num_points, num_dims))\n",
    "points"
   ]
  },
  {
   "cell_type": "code",
   "execution_count": 6,
   "id": "6d465545-5b05-4f1b-aad6-45d3dfb2f7e6",
   "metadata": {
    "tags": []
   },
   "outputs": [],
   "source": [
    "num_dims = 2\n",
    "num_points = 100000\n",
    "x_range = (0,10)\n",
    "y_range = (0, 50)"
   ]
  },
  {
   "cell_type": "markdown",
   "id": "4a3a1bcb",
   "metadata": {},
   "source": [
    "# Numpy Basics"
   ]
  },
  {
   "cell_type": "code",
   "execution_count": 8,
   "id": "a2c33170",
   "metadata": {},
   "outputs": [
    {
     "data": {
      "text/plain": [
       "array([ 1,  2,  3,  4,  5,  6,  7,  8,  9, 10])"
      ]
     },
     "execution_count": 8,
     "metadata": {},
     "output_type": "execute_result"
    }
   ],
   "source": [
    "#Converting lists to arrays\n",
    "py_list = [1,2,3,4,5,6,7,8,9,10]\n",
    "np_array = np.array(py_list)\n",
    "np_array"
   ]
  },
  {
   "cell_type": "code",
   "execution_count": 9,
   "id": "d39df6de",
   "metadata": {},
   "outputs": [
    {
     "data": {
      "text/plain": [
       "array([[ 1,  2,  3],\n",
       "       [ 4,  5,  6],\n",
       "       [ 7,  8,  9],\n",
       "       [10, 11, 12]])"
      ]
     },
     "execution_count": 9,
     "metadata": {},
     "output_type": "execute_result"
    }
   ],
   "source": [
    "py_list = [[1,2,3], [4,5,6],[7,8,9],[10,11,12]]\n",
    "np_array = np.array(py_list)\n",
    "np_array"
   ]
  },
  {
   "cell_type": "markdown",
   "id": "36811164",
   "metadata": {},
   "source": [
    "# Indexing refers to accessing a particular element of an array and Slicing refers to accessing a segement of an array"
   ]
  },
  {
   "cell_type": "code",
   "execution_count": 10,
   "id": "f8d009b2",
   "metadata": {},
   "outputs": [
    {
     "name": "stdout",
     "output_type": "stream",
     "text": [
      "First row:\t\t\t[1 2 3]\n",
      "\n",
      "First row:\t\t\t[1 2 3]\n",
      "\n",
      "First column:\t\t\t[ 1  4  7 10]\n",
      "\n",
      "3rd row 2nd column element:\t8\n",
      "\n",
      "2nd row onwards and 2nd column onwards :\n",
      "[[ 5  6]\n",
      " [ 8  9]\n",
      " [11 12]]\n",
      "\n",
      "Last 2 rows and last 2 columns onwards:\n",
      "[[ 8  9]\n",
      " [11 12]]\n",
      "\n",
      "Array with the 3rd, 1st and 4th row:\n",
      "[[ 7  8  9]\n",
      " [ 1  2  3]\n",
      " [10 11 12]]\n",
      "\n",
      "Array with the 1st and 3rd col:\n",
      "[[ 1  3]\n",
      " [ 4  6]\n",
      " [ 7  9]\n",
      " [10 12]]\n",
      "\n"
     ]
    }
   ],
   "source": [
    "print('First row:\\t\\t\\t{}\\n'.format(np_array[0]))\n",
    "print('First row:\\t\\t\\t{}\\n'.format(np_array[0,:]))\n",
    "print('First column:\\t\\t\\t{}\\n'.format(np_array[:,0]))\n",
    "print('3rd row 2nd column element:\\t{}\\n'.format(np_array[2,1]))\n",
    "print('2nd row onwards and 2nd column onwards :\\n{}\\n'.format(np_array[1:, 1:]))\n",
    "print('Last 2 rows and last 2 columns onwards:\\n{}\\n'.format(np_array[-2:, -2:]))\n",
    "print('Array with the 3rd, 1st and 4th row:\\n{}\\n'.format(np_array[[2,0,3]]))\n",
    "print('Array with the 1st and 3rd col:\\n{}\\n'.format(np_array[:,[0,2]]))"
   ]
  },
  {
   "cell_type": "markdown",
   "id": "0e391554",
   "metadata": {},
   "source": [
    "# Basic Attributes of Numpy arrays\n"
   ]
  },
  {
   "cell_type": "code",
   "execution_count": 11,
   "id": "9f201a23",
   "metadata": {},
   "outputs": [
    {
     "name": "stdout",
     "output_type": "stream",
     "text": [
      "Data type:\tint32\n",
      "Array shape:\t(4, 3)\n"
     ]
    }
   ],
   "source": [
    "print('Data type:\\t{}'.format(np_array.dtype))\n",
    "print('Array shape:\\t{}'.format(np_array.shape))"
   ]
  },
  {
   "cell_type": "markdown",
   "id": "e34274f2",
   "metadata": {},
   "source": [
    "# Create a conenience function for printing array formation"
   ]
  },
  {
   "cell_type": "code",
   "execution_count": 12,
   "id": "d2cf3868",
   "metadata": {},
   "outputs": [
    {
     "name": "stdout",
     "output_type": "stream",
     "text": [
      "Array:\n",
      "[[ 1  2  3]\n",
      " [ 4  5  6]\n",
      " [ 7  8  9]\n",
      " [10 11 12]]\n",
      "Data type:\tint32\n",
      "Array shape:\t(4, 3)\n",
      "\n"
     ]
    }
   ],
   "source": [
    "def array_info(array):\n",
    "    print('Array:\\n{}'.format(array))\n",
    "    print('Data type:\\t{}'.format(np_array.dtype))\n",
    "    print('Array shape:\\t{}\\n'.format(np_array.shape)\n",
    "    )\n",
    "array_info(np_array)"
   ]
  },
  {
   "cell_type": "markdown",
   "id": "99c3ee11",
   "metadata": {},
   "source": [
    "# Creating Numpy using built in functions and Datatypes"
   ]
  },
  {
   "cell_type": "markdown",
   "id": "e1efe47c",
   "metadata": {},
   "source": [
    "Sequence array wea re creating with np.arange([start,]stop, [step,]dtype=None)"
   ]
  },
  {
   "cell_type": "code",
   "execution_count": 13,
   "id": "92d451ef",
   "metadata": {},
   "outputs": [
    {
     "name": "stdout",
     "output_type": "stream",
     "text": [
      "Array:\n",
      "[0 1 2 3 4 5 6 7 8 9]\n",
      "Data type:\tint32\n",
      "Array shape:\t(4, 3)\n",
      "\n"
     ]
    }
   ],
   "source": [
    "#Sequence array\n",
    "import numpy as np\n",
    "array = np.arange(10, dtype=np.int64)\n",
    "array_info(array)"
   ]
  },
  {
   "cell_type": "code",
   "execution_count": 14,
   "id": "c5c5ee48",
   "metadata": {},
   "outputs": [
    {
     "name": "stdout",
     "output_type": "stream",
     "text": [
      "Array:\n",
      "[5. 7. 9.]\n",
      "Data type:\tint32\n",
      "Array shape:\t(4, 3)\n",
      "\n"
     ]
    }
   ],
   "source": [
    "# Sequence array\n",
    "array = np.arange(5, 10, 2, dtype=np.float32)\n",
    "array_info(array)"
   ]
  },
  {
   "cell_type": "markdown",
   "id": "78938998",
   "metadata": {},
   "source": [
    "Linspace returns evenly spaced samples, calcuated over the interval [start, stop]. it is defined in this fashion \n",
    "np.linspace(start, stop, num=50, endpoint=True, retstep=Flase, dtype=Noine, axis=0)"
   ]
  },
  {
   "cell_type": "code",
   "execution_count": 15,
   "id": "ae0528de",
   "metadata": {},
   "outputs": [
    {
     "name": "stdout",
     "output_type": "stream",
     "text": [
      "Array:\n",
      "[0.        0.8333333 1.6666666 2.5       3.3333333 4.1666665 5.       ]\n",
      "Data type:\tint32\n",
      "Array shape:\t(4, 3)\n",
      "\n"
     ]
    }
   ],
   "source": [
    "#linspace\n",
    "linespace = np.linspace(0,5,7, dtype=np.float32) #7 elements between 0 and 5\n",
    "array_info(linespace)"
   ]
  },
  {
   "cell_type": "markdown",
   "id": "91673d08",
   "metadata": {},
   "source": [
    "# Zeros Array"
   ]
  },
  {
   "cell_type": "code",
   "execution_count": 19,
   "id": "1c3c2cdd",
   "metadata": {},
   "outputs": [
    {
     "name": "stdout",
     "output_type": "stream",
     "text": [
      "Array:\n",
      "[[0. 0. 0.]\n",
      " [0. 0. 0.]]\n",
      "Data type:\tint32\n",
      "Array shape:\t(4, 3)\n",
      "\n"
     ]
    }
   ],
   "source": [
    "#Zeros array/matrix\n",
    "zeros = np.zeros((2,3),dtype=np.float32)\n",
    "array_info(zeros)\n"
   ]
  },
  {
   "cell_type": "markdown",
   "id": "bc872d7c",
   "metadata": {},
   "source": [
    "# Ones Array"
   ]
  },
  {
   "cell_type": "code",
   "execution_count": null,
   "id": "6da70cb5",
   "metadata": {},
   "outputs": [],
   "source": [
    "# Ones Array/matrix\n",
    "ones = np.ones((3,2), dtype=np.int8)"
   ]
  }
 ],
 "metadata": {
  "kernelspec": {
   "display_name": "Python 3 (ipykernel)",
   "language": "python",
   "name": "python3"
  },
  "language_info": {
   "codemirror_mode": {
    "name": "ipython",
    "version": 3
   },
   "file_extension": ".py",
   "mimetype": "text/x-python",
   "name": "python",
   "nbconvert_exporter": "python",
   "pygments_lexer": "ipython3",
   "version": "3.8.19"
  }
 },
 "nbformat": 4,
 "nbformat_minor": 5
}
