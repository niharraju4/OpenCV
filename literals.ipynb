{
 "cells": [
  {
   "cell_type": "code",
   "execution_count": 2,
   "id": "567be6c5-0c07-4393-b3a8-312e3444fb0b",
   "metadata": {
    "tags": []
   },
   "outputs": [
    {
     "data": {
      "text/plain": [
       "'matt 😀'"
      ]
     },
     "execution_count": 2,
     "metadata": {},
     "output_type": "execute_result"
    }
   ],
   "source": [
    "name ='matt \\N{GRINNING FACE}' #literal\n",
    "age_string = str(40)#using str constructor\n",
    "name"
   ]
  },
  {
   "cell_type": "code",
   "execution_count": 3,
   "id": "e2cc34dc-8540-4bc8-b986-d888af6b59c9",
   "metadata": {
    "tags": []
   },
   "outputs": [],
   "source": [
    "#constructor in parens\n",
    "a = 40 #int\n",
    "cost = 5.5 #float\n",
    "loc = 1+0j #complex"
   ]
  },
  {
   "cell_type": "code",
   "execution_count": 5,
   "id": "69b074ad-eea3-4769-adf2-3bb4ac917879",
   "metadata": {
    "tags": []
   },
   "outputs": [],
   "source": [
    "#list literal\n",
    "names=[name,'suzy','fred']\n",
    "characters = list('aeiou')#constructor"
   ]
  },
  {
   "cell_type": "code",
   "execution_count": 6,
   "id": "b0dd3e4d-2f4d-42fa-8ad8-fd4d4029275e",
   "metadata": {
    "tags": []
   },
   "outputs": [
    {
     "data": {
      "text/plain": [
       "['a', 'e', 'i', 'o', 'u']"
      ]
     },
     "execution_count": 6,
     "metadata": {},
     "output_type": "execute_result"
    }
   ],
   "source": [
    "#constructor is different than literal\n",
    "characters = list('aeiou')\n",
    "characters"
   ]
  },
  {
   "cell_type": "code",
   "execution_count": 7,
   "id": "0f5f48e9-5cdc-42a4-8532-5e5d7f3022bc",
   "metadata": {
    "tags": []
   },
   "outputs": [],
   "source": [
    "#tuple literal\n",
    "person = ('fred', 42, '123-432-0943', '123 North Street')\n",
    "person2 = tuple(['susan', 43, '213-123-0987', '789 West Ave'])"
   ]
  },
  {
   "cell_type": "code",
   "execution_count": 8,
   "id": "e1623350-0797-4044-a3cb-6dd25611402f",
   "metadata": {
    "tags": []
   },
   "outputs": [
    {
     "data": {
      "text/plain": [
       "('susan', 43, '213-123-0987', '789 West Ave')"
      ]
     },
     "execution_count": 8,
     "metadata": {},
     "output_type": "execute_result"
    }
   ],
   "source": [
    "person2"
   ]
  },
  {
   "cell_type": "code",
   "execution_count": 9,
   "id": "0b142136-cf17-454e-aa9c-b1a499b90278",
   "metadata": {
    "tags": []
   },
   "outputs": [],
   "source": [
    "#Dictonary\n",
    "types = {'name': 'string','age':'int'}\n",
    "ages = dict(zip(['fred', 'suzy'],[20, 21]))\n",
    "types2 = dict(name = 'string', age='int')"
   ]
  },
  {
   "cell_type": "code",
   "execution_count": 10,
   "id": "2b15e168-b21e-489b-8111-2ee506f070a9",
   "metadata": {
    "tags": []
   },
   "outputs": [
    {
     "data": {
      "text/plain": [
       "{'fred': 20, 'suzy': 21}"
      ]
     },
     "execution_count": 10,
     "metadata": {},
     "output_type": "execute_result"
    }
   ],
   "source": [
    "ages"
   ]
  },
  {
   "cell_type": "code",
   "execution_count": 11,
   "id": "574adf72-84fb-4b59-9df4-164914b02a1a",
   "metadata": {
    "tags": []
   },
   "outputs": [
    {
     "data": {
      "text/plain": [
       "{'name': 'string', 'age': 'int'}"
      ]
     },
     "execution_count": 11,
     "metadata": {},
     "output_type": "execute_result"
    }
   ],
   "source": [
    "types2"
   ]
  },
  {
   "cell_type": "code",
   "execution_count": 13,
   "id": "fee6b668-1d13-4c47-8d22-ec9bd3589e01",
   "metadata": {
    "tags": []
   },
   "outputs": [
    {
     "data": {
      "text/plain": [
       "{' ', 'd', 'e', 'i', 'l', 'm', 'o', 'p', 'r', 's', 'u'}"
      ]
     },
     "execution_count": 13,
     "metadata": {},
     "output_type": "execute_result"
    }
   ],
   "source": [
    "#SET\n",
    "digits = {0,1,2, 3, 4, 5, 6, 7,8, 9}\n",
    "unique_chars = set('lorem ipsum dolor')\n",
    "unique_chars"
   ]
  },
  {
   "cell_type": "code",
   "execution_count": 15,
   "id": "f1ce62dd-2433-4a61-b43e-9b2c23cbead0",
   "metadata": {
    "tags": []
   },
   "outputs": [
    {
     "name": "stdout",
     "output_type": "stream",
     "text": [
      "['ArithmeticError', 'AssertionError', 'AttributeError', 'BaseException', 'BaseExceptionGroup', 'BlockingIOError', 'BrokenPipeError', 'BufferError', 'BytesWarning', 'ChildProcessError', 'ConnectionAbortedError', 'ConnectionError', 'ConnectionRefusedError', 'ConnectionResetError', 'DeprecationWarning', 'EOFError', 'Ellipsis', 'EncodingWarning', 'EnvironmentError', 'Exception', 'ExceptionGroup', 'False', 'FileExistsError', 'FileNotFoundError', 'FloatingPointError', 'FutureWarning', 'GeneratorExit', 'IOError', 'ImportError', 'ImportWarning', 'IndentationError', 'IndexError', 'InterruptedError', 'IsADirectoryError', 'KeyError', 'KeyboardInterrupt', 'LookupError', 'MemoryError', 'ModuleNotFoundError', 'NameError', 'None', 'NotADirectoryError', 'NotImplemented', 'NotImplementedError', 'OSError', 'OverflowError', 'PendingDeprecationWarning', 'PermissionError', 'ProcessLookupError', 'RecursionError', 'ReferenceError', 'ResourceWarning', 'RuntimeError', 'RuntimeWarning', 'StopAsyncIteration', 'StopIteration', 'SyntaxError', 'SyntaxWarning', 'SystemError', 'SystemExit', 'TabError', 'TimeoutError', 'True', 'TypeError', 'UnboundLocalError', 'UnicodeDecodeError', 'UnicodeEncodeError', 'UnicodeError', 'UnicodeTranslateError', 'UnicodeWarning', 'UserWarning', 'ValueError', 'Warning', 'WindowsError', 'ZeroDivisionError', '__IPYTHON__', '__build_class__', '__debug__', '__doc__', '__import__', '__loader__', '__name__', '__package__', '__spec__', 'abs', 'aiter', 'all', 'anext', 'any', 'ascii', 'bin', 'bool', 'breakpoint', 'bytearray', 'bytes', 'callable', 'chr', 'classmethod', 'compile', 'complex', 'copyright', 'credits', 'delattr', 'dict', 'dir', 'display', 'divmod', 'enumerate', 'eval', 'exec', 'execfile', 'filter', 'float', 'format', 'frozenset', 'get_ipython', 'getattr', 'globals', 'hasattr', 'hash', 'help', 'hex', 'id', 'input', 'int', 'isinstance', 'issubclass', 'iter', 'len', 'license', 'list', 'locals', 'map', 'max', 'memoryview', 'min', 'next', 'object', 'oct', 'open', 'ord', 'pow', 'print', 'property', 'range', 'repr', 'reversed', 'round', 'runfile', 'set', 'setattr', 'slice', 'sorted', 'staticmethod', 'str', 'sum', 'super', 'tuple', 'type', 'vars', 'zip']\n"
     ]
    }
   ],
   "source": [
    "print(dir(__builtins__))"
   ]
  }
 ],
 "metadata": {
  "kernelspec": {
   "display_name": "Python 3 (ipykernel)",
   "language": "python",
   "name": "python3"
  },
  "language_info": {
   "codemirror_mode": {
    "name": "ipython",
    "version": 3
   },
   "file_extension": ".py",
   "mimetype": "text/x-python",
   "name": "python",
   "nbconvert_exporter": "python",
   "pygments_lexer": "ipython3",
   "version": "3.11.8"
  }
 },
 "nbformat": 4,
 "nbformat_minor": 5
}
