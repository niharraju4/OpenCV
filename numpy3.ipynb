{
 "cells": [
  {
   "cell_type": "markdown",
   "metadata": {},
   "source": [
    "# 1 Element-Wise Operations"
   ]
  },
  {
   "cell_type": "code",
   "execution_count": 21,
   "metadata": {},
   "outputs": [],
   "source": [
    "def array_info(arr):\n",
    "    print(\"Array shape:\", arr.shape)\n",
    "    print(\"Array dtype:\", arr.dtype)\n",
    "    print(\"Array size:\", arr.size)\n",
    "    print(\"Array data:\\n\", arr)"
   ]
  },
  {
   "cell_type": "code",
   "execution_count": 22,
   "metadata": {},
   "outputs": [
    {
     "name": "stdout",
     "output_type": "stream",
     "text": [
      "A [[0.7036399  0.44531073 0.8232516  0.85745581]\n",
      " [0.22913663 0.93125325 0.52864075 0.42537027]\n",
      " [0.76273609 0.27777756 0.73156983 0.9869    ]\n",
      " [0.73957009 0.84010762 0.30231385 0.15606913]]\n",
      "B [[0.75271026 0.47183356 0.02701028 0.72195705]\n",
      " [0.81246526 0.5026145  0.29918319 0.83436305]\n",
      " [0.54892231 0.41544521 0.55086515 0.43794535]\n",
      " [0.1571601  0.71516068 0.8808072  0.49999375]]\n",
      "Array shape: (4, 4)\n",
      "Array dtype: float64\n",
      "Array size: 16\n",
      "Array data:\n",
      " [[0.7036399  0.44531073 0.8232516  0.85745581]\n",
      " [0.22913663 0.93125325 0.52864075 0.42537027]\n",
      " [0.76273609 0.27777756 0.73156983 0.9869    ]\n",
      " [0.73957009 0.84010762 0.30231385 0.15606913]]\n"
     ]
    }
   ],
   "source": [
    "import numpy as np\n",
    "a = np.random.random((4,4))\n",
    "b = np.random.random((4,4))\n",
    "\n",
    "print(\"A\", a)\n",
    "print(\"B\", b)\n",
    "array_info(a)\n"
   ]
  },
  {
   "cell_type": "markdown",
   "metadata": {},
   "source": [
    "# 1.1 Element-Wise Scalar Operations\n",
    "Scalar Addition"
   ]
  },
  {
   "cell_type": "code",
   "execution_count": 8,
   "metadata": {},
   "outputs": [
    {
     "data": {
      "text/plain": [
       "array([[5.63029359, 5.35087035, 5.2963661 , 5.67240073],\n",
       "       [5.64533294, 5.17347678, 5.73493675, 5.22992167],\n",
       "       [5.70408265, 5.7377768 , 5.03427299, 5.54956346],\n",
       "       [5.61638038, 5.20343606, 5.5885143 , 5.15492121]])"
      ]
     },
     "execution_count": 8,
     "metadata": {},
     "output_type": "execute_result"
    }
   ],
   "source": [
    "a + 5"
   ]
  },
  {
   "cell_type": "markdown",
   "metadata": {},
   "source": [
    "# Scalar Subtraction"
   ]
  },
  {
   "cell_type": "code",
   "execution_count": 9,
   "metadata": {},
   "outputs": [
    {
     "data": {
      "text/plain": [
       "array([[-4.36970641, -4.64912965, -4.7036339 , -4.32759927],\n",
       "       [-4.35466706, -4.82652322, -4.26506325, -4.77007833],\n",
       "       [-4.29591735, -4.2622232 , -4.96572701, -4.45043654],\n",
       "       [-4.38361962, -4.79656394, -4.4114857 , -4.84507879]])"
      ]
     },
     "execution_count": 9,
     "metadata": {},
     "output_type": "execute_result"
    }
   ],
   "source": [
    "a - 5 # Element wise scalar subtraction."
   ]
  },
  {
   "cell_type": "markdown",
   "metadata": {},
   "source": [
    "# Scalar Multiplication"
   ]
  },
  {
   "cell_type": "code",
   "execution_count": 10,
   "metadata": {},
   "outputs": [
    {
     "data": {
      "text/plain": [
       "array([[6.30293589, 3.50870348, 2.96366102, 6.72400734],\n",
       "       [6.4533294 , 1.7347678 , 7.34936747, 2.29921669],\n",
       "       [7.04082655, 7.37776795, 0.34272988, 5.49563465],\n",
       "       [6.16380385, 2.03436063, 5.88514298, 1.54921213]])"
      ]
     },
     "execution_count": 10,
     "metadata": {},
     "output_type": "execute_result"
    }
   ],
   "source": [
    "a * 10 # Element wise scalar multiplication."
   ]
  },
  {
   "cell_type": "markdown",
   "metadata": {},
   "source": [
    "# Scalar Division"
   ]
  },
  {
   "cell_type": "code",
   "execution_count": 11,
   "metadata": {},
   "outputs": [
    {
     "data": {
      "text/plain": [
       "array([[0.06302936, 0.03508703, 0.02963661, 0.06724007],\n",
       "       [0.06453329, 0.01734768, 0.07349367, 0.02299217],\n",
       "       [0.07040827, 0.07377768, 0.0034273 , 0.05495635],\n",
       "       [0.06163804, 0.02034361, 0.05885143, 0.01549212]])"
      ]
     },
     "execution_count": 11,
     "metadata": {},
     "output_type": "execute_result"
    }
   ],
   "source": [
    "a/10 # Element wise scalar division."
   ]
  },
  {
   "cell_type": "markdown",
   "metadata": {},
   "source": [
    "# 1.2 Element-Wise Array Operations\n",
    "Array Addition"
   ]
  },
  {
   "cell_type": "code",
   "execution_count": 12,
   "metadata": {},
   "outputs": [
    {
     "data": {
      "text/plain": [
       "array([[1.36568947, 0.68176522, 0.44548468, 1.58193272],\n",
       "       [0.9043652 , 0.94303608, 0.83068685, 0.69889832],\n",
       "       [0.76423353, 0.8416446 , 0.75891197, 0.58056842],\n",
       "       [0.67221322, 0.79285936, 1.35014982, 1.14789106]])"
      ]
     },
     "execution_count": 12,
     "metadata": {},
     "output_type": "execute_result"
    }
   ],
   "source": [
    "a + b # Element wise array/vector addition."
   ]
  },
  {
   "cell_type": "markdown",
   "metadata": {},
   "source": [
    "# Array Subtraction"
   ]
  },
  {
   "cell_type": "code",
   "execution_count": 13,
   "metadata": {},
   "outputs": [
    {
     "data": {
      "text/plain": [
       "array([[-0.1051023 ,  0.01997548,  0.14724753, -0.23713125],\n",
       "       [ 0.38630067, -0.59608253,  0.63918665, -0.23905499],\n",
       "       [ 0.64393178,  0.63390899, -0.69036599,  0.51855851],\n",
       "       [ 0.56054755, -0.38598723, -0.17312123, -0.83804863]])"
      ]
     },
     "execution_count": 13,
     "metadata": {},
     "output_type": "execute_result"
    }
   ],
   "source": [
    "a - b # Element wise array/vector subtraction."
   ]
  },
  {
   "cell_type": "markdown",
   "metadata": {},
   "source": [
    "# Array Multiplication"
   ]
  },
  {
   "cell_type": "code",
   "execution_count": 14,
   "metadata": {},
   "outputs": [
    {
     "data": {
      "text/plain": [
       "array([[0.46351531, 0.1161012 , 0.04419369, 0.61156998],\n",
       "       [0.16716205, 0.13350067, 0.07037027, 0.10782789],\n",
       "       [0.04235119, 0.07663126, 0.02483554, 0.01703919],\n",
       "       [0.03441427, 0.11990995, 0.4482334 , 0.15383209]])"
      ]
     },
     "execution_count": 14,
     "metadata": {},
     "output_type": "execute_result"
    }
   ],
   "source": [
    "a * b # Element wise array/vector multiplication."
   ]
  },
  {
   "cell_type": "markdown",
   "metadata": {},
   "source": [
    "# Array Division"
   ]
  },
  {
   "cell_type": "code",
   "execution_count": 15,
   "metadata": {},
   "outputs": [
    {
     "data": {
      "text/plain": [
       "array([[ 0.85708066,  1.06036805,  1.98745259,  0.73928212],\n",
       "       [ 2.49132261,  0.22542354,  7.67557158,  0.4902625 ],\n",
       "       [11.70527725,  7.10303645,  0.04729664, 17.72501843],\n",
       "       [11.03974667,  0.34514426,  0.77269807,  0.15601804]])"
      ]
     },
     "execution_count": 15,
     "metadata": {},
     "output_type": "execute_result"
    }
   ],
   "source": [
    "a / b # element wise array/vector division"
   ]
  },
  {
   "cell_type": "code",
   "execution_count": 25,
   "metadata": {},
   "outputs": [
    {
     "name": "stdout",
     "output_type": "stream",
     "text": [
      "Array \"a\":\n",
      "Array shape: (4, 4)\n",
      "Array dtype: float64\n",
      "Array size: 16\n",
      "Array data:\n",
      " [[0.7036399  0.44531073 0.8232516  0.85745581]\n",
      " [0.22913663 0.93125325 0.52864075 0.42537027]\n",
      " [0.76273609 0.27777756 0.73156983 0.9869    ]\n",
      " [0.73957009 0.84010762 0.30231385 0.15606913]]\n",
      "Array \"c\":\n",
      "Array shape: (2, 4)\n",
      "Array dtype: float64\n",
      "Array size: 8\n",
      "Array data:\n",
      " [[0.27801002 0.63926699 0.95235031 0.48405405]\n",
      " [0.27291143 0.32568777 0.61379554 0.48004025]]\n"
     ]
    },
    {
     "name": "stderr",
     "output_type": "stream",
     "text": [
      "Traceback (most recent call last):\n",
      "  File \"C:\\Users\\nihar\\AppData\\Local\\Temp\\ipykernel_36116\\3148026610.py\", line 9, in <module>\n",
      "    a + c\n",
      "    ~~^~~\n",
      "ValueError: operands could not be broadcast together with shapes (4,4) (2,4) \n"
     ]
    }
   ],
   "source": [
    "print('Array \"a\":')\n",
    "array_info(a)\n",
    "print('Array \"c\":')\n",
    "c = np.random.rand(2, 4)\n",
    "array_info(c)\n",
    "\n",
    "import traceback\n",
    "try:\n",
    "    a + c\n",
    "except Exception:\n",
    "    traceback.print_exc()\n"
   ]
  },
  {
   "cell_type": "markdown",
   "metadata": {},
   "source": [
    "# Broadcasting\n",
    "\n",
    "There is a concept of broadcasting in NumPy, which tries to copy rows or columns in the lower-dimensional array to make an equal dimensional array of higher-dimensional array.\n",
    "\n",
    "When operating on two arrays, NumPy compares their shapes element-wise. It starts with the trailing (i.e., rightmost) dimensions and works its way left. Two dimensions are compatible when:\n",
    "\n",
    "They are equal, or\n",
    "One of them is 1\n",
    "The examples below show how B is successfully broadcasted to A according to the rules above.\n",
    "\n",
    "A      (2d array):  5 x 4\n",
    "B      (1d array):      1\n",
    "Result (2d array):  5 x 4\n",
    "\n",
    "A      (2d array):  5 x 4\n",
    "B      (1d array):      4\n",
    "Result (2d array):  5 x 4\n",
    "\n",
    "A      (3d array):  15 x 3 x 5\n",
    "B      (3d array):  15 x 1 x 5\n",
    "Result (3d array):  15 x 3 x 5\n",
    "\n",
    "A      (3d array):  15 x 3 x 5\n",
    "B      (2d array):       3 x 5\n",
    "Result (3d array):  15 x 3 x 5\n",
    "\n",
    "A      (3d array):  15 x 3 x 5\n",
    "B      (2d array):       3 x 1\n",
    "Result (3d array):  15 x 3 x 5\n"
   ]
  },
  {
   "cell_type": "code",
   "execution_count": 27,
   "metadata": {},
   "outputs": [
    {
     "name": "stdout",
     "output_type": "stream",
     "text": [
      "Array \"a\":\n",
      "Array shape: (3, 3)\n",
      "Array dtype: int32\n",
      "Array size: 9\n",
      "Array data:\n",
      " [[1 2 3]\n",
      " [4 5 6]\n",
      " [7 8 9]]\n",
      "Array \"b\":\n",
      "Array shape: (3,)\n",
      "Array dtype: int32\n",
      "Array size: 3\n",
      "Array data:\n",
      " [0 1 0]\n",
      "Array \"a+b\":\n",
      "Array shape: (3, 3)\n",
      "Array dtype: int32\n",
      "Array size: 9\n",
      "Array data:\n",
      " [[1 3 3]\n",
      " [4 6 6]\n",
      " [7 9 9]]\n"
     ]
    }
   ],
   "source": [
    "a = np.array([[1, 2, 3], [4, 5, 6],[7, 8, 9]])\n",
    "b = np.array([0, 1, 0])\n",
    "\n",
    "print('Array \"a\":')\n",
    "array_info(a)\n",
    "print('Array \"b\":')\n",
    "array_info(b)\n",
    "\n",
    "print('Array \"a+b\":')\n",
    "array_info(a+b)"
   ]
  },
  {
   "cell_type": "markdown",
   "metadata": {},
   "source": [
    "# Linear Algebra\n",
    "Transpose\n",
    "Either syntax below can be used:\n",
    "\n",
    "result = np.transpose(a, axes=None)\n",
    "\n",
    "result = a.transpose(*axes)\n",
    "\n",
    "result = a.T\n",
    "Returns a view of the NumPy array a with axes transposed."
   ]
  },
  {
   "cell_type": "code",
   "execution_count": 30,
   "metadata": {},
   "outputs": [
    {
     "name": "stdout",
     "output_type": "stream",
     "text": [
      "Array \"a\":\n",
      "Array shape: (2, 3)\n",
      "Array dtype: float64\n",
      "Array size: 6\n",
      "Array data:\n",
      " [[0.17156344 0.87156507 0.11770348]\n",
      " [0.39395166 0.6056029  0.59462406]]\n",
      "tranpose of a:\n",
      "Array shape: (3, 2)\n",
      "Array dtype: float64\n",
      "Array size: 6\n",
      "Array data:\n",
      " [[0.17156344 0.39395166]\n",
      " [0.87156507 0.6056029 ]\n",
      " [0.11770348 0.59462406]]\n"
     ]
    }
   ],
   "source": [
    "a = np.random.random((2,3))\n",
    "print('Array \"a\":')\n",
    "array_info(a)\n",
    "\n",
    "print('tranpose of a:')\n",
    "a_transpose = a.transpose() # or a.T\n",
    "array_info(a_transpose)"
   ]
  },
  {
   "cell_type": "markdown",
   "metadata": {},
   "source": [
    "# Matrix Multiplication\n",
    "two ways of performing matrix multiplication.\n",
    "\n",
    "np.matmul\n",
    "Python @ operator\n",
    "\n",
    "Using matmul is the most common approach for multiplying two matrices using Numpy. Multiplying two matrices requires that the number of columns of the first matrix, M, equals the number of rows in the second matrix, N, as shown below.\n",
    "\n",
    "M        N      \n",
    "[p, q] x [q, r] = [p , r]"
   ]
  },
  {
   "cell_type": "code",
   "execution_count": 32,
   "metadata": {},
   "outputs": [
    {
     "name": "stdout",
     "output_type": "stream",
     "text": [
      "Array \"a\":\n",
      "Array shape: (3, 4)\n",
      "Array dtype: float64\n",
      "Array size: 12\n",
      "Array data:\n",
      " [[0.71337664 0.37763139 0.82232775 0.5989631 ]\n",
      " [0.80500373 0.34168007 0.03922475 0.22072105]\n",
      " [0.71397599 0.96027163 0.42817184 0.14372091]]\n",
      "Array \"b\"\n",
      "Array shape: (4, 2)\n",
      "Array dtype: float64\n",
      "Array size: 8\n",
      "Array data:\n",
      " [[0.01043611 0.86652095]\n",
      " [0.74020204 0.72135705]\n",
      " [0.69297781 0.2900908 ]\n",
      " [0.74913687 0.35210345]]\n",
      "matrixmultiplication:\n",
      "Array shape: (3, 2)\n",
      "Array dtype: float64\n",
      "Array size: 6\n",
      "Array data:\n",
      " [[1.30552863 1.34000956]\n",
      " [0.45384555 1.0331213 ]\n",
      " [1.12262637 1.4861872 ]]\n",
      "(3, 4) x (4, 2) --> (3, 2)\n"
     ]
    }
   ],
   "source": [
    "a = np.random.random((3, 4))\n",
    "b = np.random.random((4, 2))\n",
    "\n",
    "print('Array \"a\":')\n",
    "array_info(a)\n",
    "print('Array \"b\"')\n",
    "array_info(b)\n",
    "c = np.matmul(a,b)\n",
    "print(\"matrixmultiplication:\")\n",
    "array_info(c)\n",
    "\n",
    "print('{} x {} --> {}'.format(a.shape, b.shape, c.shape))"
   ]
  },
  {
   "cell_type": "markdown",
   "metadata": {},
   "source": [
    "# Using: `@` operator"
   ]
  },
  {
   "cell_type": "code",
   "execution_count": 33,
   "metadata": {},
   "outputs": [
    {
     "name": "stdout",
     "output_type": "stream",
     "text": [
      "Array \"a\":\n",
      "Array shape: (3, 4)\n",
      "Array dtype: float64\n",
      "Array size: 12\n",
      "Array data:\n",
      " [[0.23081758 0.10935692 0.01280249 0.62260165]\n",
      " [0.19769048 0.96340999 0.82258253 0.52935719]\n",
      " [0.68503071 0.80545311 0.15204162 0.24546995]]\n",
      "Array \"b\"\n",
      "Array shape: (4, 2)\n",
      "Array dtype: float64\n",
      "Array size: 8\n",
      "Array data:\n",
      " [[0.69517659 0.02883649]\n",
      " [0.72364156 0.6534426 ]\n",
      " [0.80243403 0.56721342]\n",
      " [0.98680013 0.89446346]]\n",
      "Array shape: (3, 2)\n",
      "Array dtype: float64\n",
      "Array size: 6\n",
      "Array data:\n",
      " [[0.86425074 0.64227061]\n",
      " [2.01703126 1.57530434]\n",
      " [1.42330981 0.8518752 ]]\n"
     ]
    }
   ],
   "source": [
    "a = np.random.random((3, 4))\n",
    "b = np.random.random((4, 2))\n",
    "\n",
    "print('Array \"a\":')\n",
    "array_info(a)\n",
    "print('Array \"b\"')\n",
    "array_info(b)\n",
    "\n",
    "# Matrix multiplication of a and b.\n",
    "c = a@b \n",
    "array_info(c)"
   ]
  },
  {
   "cell_type": "markdown",
   "metadata": {},
   "source": []
  },
  {
   "cell_type": "markdown",
   "metadata": {},
   "source": [
    "# Matrix Inverse\n",
    "np.linalg.inv(a)\n",
    "For a square matrix, a, compute the (multiplicative) inverse of a matrix."
   ]
  },
  {
   "cell_type": "code",
   "execution_count": 37,
   "metadata": {},
   "outputs": [
    {
     "name": "stdout",
     "output_type": "stream",
     "text": [
      "Array \"A\":\n",
      "Array shape: (3, 3)\n",
      "Array dtype: float64\n",
      "Array size: 9\n",
      "Array data:\n",
      " [[0.55864572 0.66898628 0.8716764 ]\n",
      " [0.26229479 0.54742839 0.81479029]\n",
      " [0.6374109  0.0836767  0.17591571]]\n",
      "Inverse\n",
      "Array shape: (3, 3)\n",
      "Array dtype: float64\n",
      "Array size: 9\n",
      "Array data:\n",
      " [[ 0.59510648 -0.9468912   1.4369239 ]\n",
      " [10.01387128 -9.67797754 -4.79396128]\n",
      " [-6.91953597  8.03441614  2.75832058]]\n",
      "\"A x A_inverse = Identity\" should be true:\n",
      "Array shape: (3, 3)\n",
      "Array dtype: float64\n",
      "Array size: 9\n",
      "Array data:\n",
      " [[ 1.00000000e+00  8.88178420e-16 -8.88178420e-16]\n",
      " [ 0.00000000e+00  1.00000000e+00  0.00000000e+00]\n",
      " [ 0.00000000e+00  2.22044605e-16  1.00000000e+00]]\n"
     ]
    }
   ],
   "source": [
    "A = np.random.random((3,3))\n",
    "print('Array \"A\":')\n",
    "array_info(A)\n",
    "\n",
    "A_inverse = np.linalg.inv(A)\n",
    "print(\"Inverse\")\n",
    "array_info(A_inverse)\n",
    "\n",
    "print('\"A x A_inverse = Identity\" should be true:')\n",
    "A_X_A_inverse = np.matmul(A, A_inverse)  # A x A_inverse = I = Identity matrix\n",
    "array_info(A_X_A_inverse)\n"
   ]
  },
  {
   "cell_type": "markdown",
   "metadata": {},
   "source": [
    "#  Dot Product\n",
    "The dot product between two euqal length vectors is a scalar defined by the sum of the element-wise product of the two vectors.\n",
    "\n",
    "np.dot(a, b, out=None)"
   ]
  },
  {
   "cell_type": "code",
   "execution_count": 38,
   "metadata": {},
   "outputs": [
    {
     "name": "stdout",
     "output_type": "stream",
     "text": [
      "Array shape: (4,)\n",
      "Array dtype: int32\n",
      "Array size: 4\n",
      "Array data:\n",
      " [1 2 3 4]\n",
      "Array shape: (4,)\n",
      "Array dtype: int32\n",
      "Array size: 4\n",
      "Array data:\n",
      " [5 6 7 8]\n",
      "Array shape: ()\n",
      "Array dtype: int32\n",
      "Array size: 1\n",
      "Array data:\n",
      " 70\n"
     ]
    }
   ],
   "source": [
    "a = np.array([1, 2, 3, 4])\n",
    "b = np.array([5, 6, 7, 8])\n",
    "\n",
    "array_info(a)\n",
    "array_info(b)\n",
    "\n",
    "dot_prod = np.dot(a, b) \n",
    "array_info(dot_prod)"
   ]
  },
  {
   "cell_type": "markdown",
   "metadata": {},
   "source": [
    "# Array Statistics\n",
    "3.1 Sum"
   ]
  },
  {
   "cell_type": "code",
   "execution_count": 39,
   "metadata": {},
   "outputs": [
    {
     "name": "stdout",
     "output_type": "stream",
     "text": [
      "15\n"
     ]
    }
   ],
   "source": [
    "a = np.array([1, 2, 3, 4, 5])\n",
    "\n",
    "print(a.sum())"
   ]
  },
  {
   "cell_type": "markdown",
   "metadata": {},
   "source": [
    "# Sum Along Axis"
   ]
  },
  {
   "cell_type": "code",
   "execution_count": 40,
   "metadata": {},
   "outputs": [
    {
     "name": "stdout",
     "output_type": "stream",
     "text": [
      "Array shape: (2, 3)\n",
      "Array dtype: int32\n",
      "Array size: 6\n",
      "Array data:\n",
      " [[1 2 3]\n",
      " [4 5 6]]\n",
      "\n",
      "sum along axis=0:  [5 7 9]\n",
      "\n",
      "sum along axis=1:  [ 6 15]\n"
     ]
    }
   ],
   "source": [
    "a = np.array([[1, 2, 3], [4, 5, 6]])\n",
    "array_info(a)\n",
    "print('')\n",
    "\n",
    "print('sum along axis=0: ',a.sum(axis = 0)) # Sum along axis=0 ie: 1+4, 2+5, 3+6\n",
    "print(\"\")\n",
    "print('sum along axis=1: ',a.sum(axis = 1)) # Sum along axis=1 ie: 1+2+3, 4+5+6"
   ]
  },
  {
   "cell_type": "markdown",
   "metadata": {},
   "source": [
    "# Minimum and Maximum"
   ]
  },
  {
   "cell_type": "code",
   "execution_count": 41,
   "metadata": {},
   "outputs": [
    {
     "name": "stdout",
     "output_type": "stream",
     "text": [
      "Minimum =  -1.1\n",
      "Maximum =  100.0\n"
     ]
    }
   ],
   "source": [
    "a = np.array([-1.1, 2, 5, 100])\n",
    "\n",
    "print('Minimum = ', a.min())\n",
    "print('Maximum = ', a.max())"
   ]
  },
  {
   "cell_type": "markdown",
   "metadata": {},
   "source": [
    "# Min and Max along Axis"
   ]
  },
  {
   "cell_type": "code",
   "execution_count": 42,
   "metadata": {},
   "outputs": [
    {
     "name": "stdout",
     "output_type": "stream",
     "text": [
      "Array shape: (2, 3)\n",
      "Array dtype: int32\n",
      "Array size: 6\n",
      "Array data:\n",
      " [[-2  0  4]\n",
      " [ 1  2  3]]\n",
      "a =\n",
      " [[-2  0  4]\n",
      " [ 1  2  3]] \n",
      "\n",
      "Minimum =  -2\n",
      "Maximum =  4\n",
      "\n",
      "Minimum along axis 0 =  [-2  0  3]\n",
      "Maximum along axis 0 =  [1 2 4]\n",
      "\n",
      "Minimum along axis 1 =  [-2  1]\n",
      "Maximum along axis 1 =  [4 3]\n"
     ]
    }
   ],
   "source": [
    "a = np.array([[-2, 0, 4], [1, 2, 3]])\n",
    "\n",
    "array_info(a)\n",
    "\n",
    "print('a =\\n',a,'\\n')\n",
    "print('Minimum = ', a.min())\n",
    "print('Maximum = ', a.max())\n",
    "print()\n",
    "print('Minimum along axis 0 = ', a.min(0))\n",
    "print('Maximum along axis 0 = ', a.max(0))\n",
    "print()\n",
    "print('Minimum along axis 1 = ', a.min(1))\n",
    "print('Maximum along axis 1 = ', a.max(1))"
   ]
  },
  {
   "cell_type": "markdown",
   "metadata": {},
   "source": [
    "# Mean and Standard Deviation"
   ]
  },
  {
   "cell_type": "code",
   "execution_count": 43,
   "metadata": {},
   "outputs": [
    {
     "name": "stdout",
     "output_type": "stream",
     "text": [
      "Mean of the array               = 3.133333\n",
      "Standard deviation of the array = 1.684900\n"
     ]
    }
   ],
   "source": [
    "# Create some data.\n",
    "data = np.array([1.2, 2.3, 5.0, 3.3, 1.4, 5.6])\n",
    "\n",
    "print('Mean of the array               = {:8.6f}'.format(data.mean()))\n",
    "print('Standard deviation of the array = {:8.6f}'.format(data.std()))"
   ]
  },
  {
   "cell_type": "markdown",
   "metadata": {},
   "source": [
    "# Standardizing an Array\n",
    "Normalize the data array to have mean=0 and std=1."
   ]
  },
  {
   "cell_type": "code",
   "execution_count": 44,
   "metadata": {},
   "outputs": [
    {
     "name": "stdout",
     "output_type": "stream",
     "text": [
      "Array              =  [1.2 2.3 5.  3.3 1.4 5.6]\n",
      "Mean               = 3.133333\n",
      "Standard deviation = 1.684900\n",
      "\n",
      "Standardized Array =  [-1.14744675 -0.49458912  1.10787962  0.09891782 -1.02874536  1.46398379]\n",
      "Mean               = -0.000000\n",
      "Standard deviation = 1.000000\n"
     ]
    }
   ],
   "source": [
    "print('Array              = ', data)\n",
    "print('Mean               = {:8.6f}'.format(data.mean()))\n",
    "print('Standard deviation = {:8.6f}'.format(data.std()))\n",
    "print()\n",
    "\n",
    "standardized_array = (data - data.mean())/data.std()\n",
    "\n",
    "print('Standardized Array = ', standardized_array)\n",
    "print('Mean               = {:8.6f}'.format(standardized_array.mean()))  \n",
    "print('Standard deviation = {:8.6f}'.format(standardized_array.std()))  "
   ]
  }
 ],
 "metadata": {
  "kernelspec": {
   "display_name": "nihar",
   "language": "python",
   "name": "python3"
  },
  "language_info": {
   "codemirror_mode": {
    "name": "ipython",
    "version": 3
   },
   "file_extension": ".py",
   "mimetype": "text/x-python",
   "name": "python",
   "nbconvert_exporter": "python",
   "pygments_lexer": "ipython3",
   "version": "3.11.4"
  }
 },
 "nbformat": 4,
 "nbformat_minor": 2
}
