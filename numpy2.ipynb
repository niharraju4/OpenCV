{
 "cells": [
  {
   "cell_type": "code",
   "execution_count": 1,
   "metadata": {},
   "outputs": [],
   "source": [
    "import numpy as np\n",
    "\n",
    "def array_info(array):\n",
    "    print('Array:\\n{}'.format(array))\n",
    "    print('Data type:\\t{}'.format(array.dtype))\n",
    "    print('Array shape:\\t{}'.format(array.shape))\n",
    "    print('Array Dim:\\t{}\\n'.format(array.ndim))"
   ]
  },
  {
   "cell_type": "code",
   "execution_count": 2,
   "metadata": {},
   "outputs": [
    {
     "name": "stdout",
     "output_type": "stream",
     "text": [
      "Create a 1D array:\n",
      "Array:\n",
      "[ 1  2  3  4  5  6  7  8  9 10 11 12]\n",
      "a[0] = 1\n"
     ]
    }
   ],
   "source": [
    "print('Create a 1D array:')\n",
    "a = np.arange(1, 13, dtype=int)\n",
    "array_info(a)\n",
    "print(\"a[0] =\", a[0])"
   ]
  },
  {
   "cell_type": "code",
   "execution_count": 5,
   "metadata": {},
   "outputs": [
    {
     "name": "stdout",
     "output_type": "stream",
     "text": [
      "Array:\n",
      "[[ 1  2  3  4  5  6  7  8  9 10 11 12]]\n",
      "a[0] =  [ 1  2  3  4  5  6  7  8  9 10 11 12]\n",
      "a[0,5] =  6\n"
     ]
    }
   ],
   "source": [
    "a = a.reshape(1, 12)\n",
    "array_info(a)\n",
    "\n",
    "print(\"a[0] = \", a[0])\n",
    "print(\"a[0,5] = \", a[0, 5])"
   ]
  },
  {
   "cell_type": "code",
   "execution_count": 6,
   "metadata": {},
   "outputs": [
    {
     "name": "stdout",
     "output_type": "stream",
     "text": [
      "Array:\n",
      "[[ 1  2  3  4  5  6  7  8  9 10 11 12]]\n"
     ]
    }
   ],
   "source": [
    "a=a.reshape(1, -1)\n",
    "array_info(a)"
   ]
  },
  {
   "cell_type": "code",
   "execution_count": 7,
   "metadata": {},
   "outputs": [
    {
     "name": "stdout",
     "output_type": "stream",
     "text": [
      "Array:\n",
      "[[ 1]\n",
      " [ 2]\n",
      " [ 3]\n",
      " [ 4]\n",
      " [ 5]\n",
      " [ 6]\n",
      " [ 7]\n",
      " [ 8]\n",
      " [ 9]\n",
      " [10]\n",
      " [11]\n",
      " [12]]\n",
      "a[0] = [1]\n",
      "a[5, 0] = 6\n"
     ]
    }
   ],
   "source": [
    "a = a.reshape(12, 1)\n",
    "array_info(a)\n",
    "print(\"a[0] =\", a[0])\n",
    "print(\"a[5, 0] =\", a[5, 0])"
   ]
  },
  {
   "cell_type": "markdown",
   "metadata": {},
   "source": [
    "# Reshaping Multi dimensional arrays"
   ]
  },
  {
   "cell_type": "code",
   "execution_count": 10,
   "metadata": {},
   "outputs": [
    {
     "name": "stdout",
     "output_type": "stream",
     "text": [
      "Array:\n",
      "[[[10 11]\n",
      "  [10 12]\n",
      "  [10 13]\n",
      "  [10 14]\n",
      "  [10 15]]\n",
      "\n",
      " [[20 21]\n",
      "  [20 22]\n",
      "  [20 23]\n",
      "  [20 24]\n",
      "  [20 25]]\n",
      "\n",
      " [[30 31]\n",
      "  [30 32]\n",
      "  [30 33]\n",
      "  [30 34]\n",
      "  [30 35]]]\n",
      "b[0,0:] =  [10 11]\n",
      "b[0,1:] =  [10 12]\n",
      "b[2,0,:] = [30 31]\n"
     ]
    }
   ],
   "source": [
    "b = np.array([\n",
    "    [[10,11],[10,12],[10,13],[10,14],[10,15]],\n",
    "    [[20,21],[20,22],[20,23],[20,24],[20,25]],\n",
    "    [[30,31],[30,32],[30,33],[30,34],[30,35]],\n",
    "])\n",
    "\n",
    "array_info(b)\n",
    "print(\"b[0,0:] = \", b[0,0,:])\n",
    "print(\"b[0,1:] = \", b[0,1])\n",
    "print(\"b[2,0,:] =\", b[2,0,:])"
   ]
  },
  {
   "cell_type": "code",
   "execution_count": 11,
   "metadata": {},
   "outputs": [
    {
     "name": "stdout",
     "output_type": "stream",
     "text": [
      "Array:\n",
      "[[10 11 10 12 10 13 10 14 10 15]\n",
      " [20 21 20 22 20 23 20 24 20 25]\n",
      " [30 31 30 32 30 33 30 34 30 35]]\n"
     ]
    }
   ],
   "source": [
    "b = b.reshape(3,10)\n",
    "array_info(b)"
   ]
  },
  {
   "cell_type": "markdown",
   "metadata": {},
   "source": [
    "# Adding an axis/Dimension"
   ]
  },
  {
   "cell_type": "code",
   "execution_count": 13,
   "metadata": {},
   "outputs": [
    {
     "name": "stdout",
     "output_type": "stream",
     "text": [
      "Array:\n",
      "[[1 2 3]\n",
      " [4 5 6]\n",
      " [7 8 9]]\n",
      "(3, 3)\n"
     ]
    }
   ],
   "source": [
    "b = np.arange(1, 10, dtype=int)\n",
    "b = b.reshape(3,3)\n",
    "array_info(b)\n",
    "print(b.shape)"
   ]
  },
  {
   "cell_type": "code",
   "execution_count": 18,
   "metadata": {},
   "outputs": [
    {
     "name": "stdout",
     "output_type": "stream",
     "text": [
      "Array:\n",
      "[[[1 2 3]\n",
      "  [4 5 6]\n",
      "  [7 8 9]]]\n"
     ]
    }
   ],
   "source": [
    "b = b.reshape(1,3,3)\n",
    "array_info(b)"
   ]
  },
  {
   "cell_type": "markdown",
   "metadata": {},
   "source": [
    "# Expand Dimensions"
   ]
  },
  {
   "cell_type": "code",
   "execution_count": 24,
   "metadata": {},
   "outputs": [
    {
     "name": "stdout",
     "output_type": "stream",
     "text": [
      "Create a 1D array:\n",
      "Array:\n",
      "[1 2 3 4 5 6 7 8 9]\n",
      "Array:\n",
      "[[1 2 3]\n",
      " [4 5 6]\n",
      " [7 8 9]]\n",
      "Using np.expand_dims:\n",
      "Array:\n",
      "[[[1 2 3]\n",
      "  [4 5 6]\n",
      "  [7 8 9]]]\n",
      "Using np.newaxis:\n",
      "Array:\n",
      "[[[1 2 3]\n",
      "  [4 5 6]\n",
      "  [7 8 9]]]\n"
     ]
    }
   ],
   "source": [
    "print('Create a 1D array:')\n",
    "c = np.arange(1, 10, dtype=int )\n",
    "array_info(c)\n",
    "\n",
    "c = c.reshape(3,3)\n",
    "array_info(c)\n",
    "# expand dimensions using: np.expand_dims\n",
    "print('Using np.expand_dims:')\n",
    "c_expand = np.expand_dims(c, axis=0)\n",
    "array_info(c_expand)\n",
    "\n",
    "#expand dimensions using: np.newaxis\n",
    "print('Using np.newaxis:')\n",
    "c_newaxis = c[np.newaxis, : , :]\n",
    "array_info(c_newaxis)"
   ]
  },
  {
   "cell_type": "markdown",
   "metadata": {},
   "source": [
    "# Squeeze"
   ]
  },
  {
   "cell_type": "code",
   "execution_count": 26,
   "metadata": {},
   "outputs": [
    {
     "name": "stdout",
     "output_type": "stream",
     "text": [
      "Array:\n",
      "[[[1 2 3]\n",
      "  [4 5 6]\n",
      "  [7 8 9]]]\n"
     ]
    }
   ],
   "source": [
    "e = np.arange(1, 10, dtype=int)\n",
    "e = e.reshape(1,3,3)\n",
    "array_info(e)"
   ]
  },
  {
   "cell_type": "code",
   "execution_count": 29,
   "metadata": {},
   "outputs": [
    {
     "name": "stdout",
     "output_type": "stream",
     "text": [
      "Squeese along axis=1, should get ValueError\n"
     ]
    },
    {
     "name": "stderr",
     "output_type": "stream",
     "text": [
      "Traceback (most recent call last):\n",
      "  File \"C:\\Users\\nihar\\AppData\\Local\\Temp\\ipykernel_30296\\2540636352.py\", line 6, in <module>\n",
      "    e_squeezed_error = np.squeeze(e, axis=1)\n",
      "                                  ^\n",
      "NameError: name 'e' is not defined\n"
     ]
    }
   ],
   "source": [
    "import traceback\n",
    "\n",
    "#should get a value error.\n",
    "print('Squeese along axis=1, should get ValueError')\n",
    "try:\n",
    "    e_squeezed_error = np.squeeze(e, axis=1)\n",
    "except Exception as e:\n",
    "    traceback.print_exc()"
   ]
  },
  {
   "cell_type": "markdown",
   "metadata": {},
   "source": [
    "# Reshape Revisit"
   ]
  },
  {
   "cell_type": "code",
   "execution_count": 40,
   "metadata": {},
   "outputs": [
    {
     "name": "stdout",
     "output_type": "stream",
     "text": [
      "Array:\n",
      "[0 1 2 3 4 5 6 7 8 9]\n",
      "Reshape thr aarray as two columns\n",
      "Array:\n",
      "[[0 1]\n",
      " [2 3]\n",
      " [4 5]\n",
      " [6 7]\n",
      " [8 9]]\n"
     ]
    }
   ],
   "source": [
    "f = np.arange(10)\n",
    "array_info(f)\n",
    "\n",
    "print('Reshape thr aarray as two columns')\n",
    "f = f.reshape(-3,2)\n",
    "array_info(f)"
   ]
  },
  {
   "cell_type": "markdown",
   "metadata": {},
   "source": [
    "# Flattening arrays"
   ]
  },
  {
   "cell_type": "code",
   "execution_count": 43,
   "metadata": {},
   "outputs": [
    {
     "name": "stdout",
     "output_type": "stream",
     "text": [
      "Array:\n",
      "[[[1. 1. 1. 1.]\n",
      "  [1. 1. 1. 1.]\n",
      "  [1. 1. 1. 1.]\n",
      "  [1. 1. 1. 1.]]\n",
      "\n",
      " [[2. 2. 2. 2.]\n",
      "  [2. 2. 2. 2.]\n",
      "  [2. 2. 2. 2.]\n",
      "  [2. 2. 2. 2.]]\n",
      "\n",
      " [[3. 3. 3. 3.]\n",
      "  [3. 3. 3. 3.]\n",
      "  [3. 3. 3. 3.]\n",
      "  [3. 3. 3. 3.]]]\n"
     ]
    }
   ],
   "source": [
    "# Create three separate 4x4 arrays.\n",
    "h1 = np.full((4, 4), 1, dtype='float32')\n",
    "h2 = np.full((4, 4), 2, dtype='float32')\n",
    "h3 = np.full((4, 4), 3, dtype='float32')\n",
    "\n",
    "# create a 3x4x4 array\n",
    "h = np.zeros((3,4,4))\n",
    "h[0]= h1\n",
    "h[1]= h2\n",
    "h[2]= h3\n",
    "\n",
    "array_info(h)"
   ]
  },
  {
   "cell_type": "code",
   "execution_count": 46,
   "metadata": {},
   "outputs": [
    {
     "name": "stdout",
     "output_type": "stream",
     "text": [
      "Array:\n",
      "[[[1. 1. 1. 1. 1. 1. 1. 1. 1. 1. 1. 1. 1. 1. 1. 1.]\n",
      "  [2. 2. 2. 2. 2. 2. 2. 2. 2. 2. 2. 2. 2. 2. 2. 2.]\n",
      "  [3. 3. 3. 3. 3. 3. 3. 3. 3. 3. 3. 3. 3. 3. 3. 3.]]]\n"
     ]
    }
   ],
   "source": [
    "h = h.reshape(1,3,16)\n",
    "array_info(h)"
   ]
  },
  {
   "cell_type": "markdown",
   "metadata": {},
   "source": [
    "# Combining Array/MATRICES\n",
    "# CONCATENATE"
   ]
  },
  {
   "cell_type": "code",
   "execution_count": 50,
   "metadata": {},
   "outputs": [
    {
     "name": "stdout",
     "output_type": "stream",
     "text": [
      "Array:\n",
      "[[ 1]\n",
      " [ 2]\n",
      " [ 3]\n",
      " [ 4]\n",
      " [ 5]\n",
      " [ 6]\n",
      " [ 7]\n",
      " [ 8]\n",
      " [ 9]\n",
      " [10]\n",
      " [11]\n",
      " [12]]\n",
      "Array:\n",
      "[[[1 2 3]\n",
      "  [4 5 6]\n",
      "  [7 8 9]]]\n",
      "Concatenate along axis zero:\n",
      "Array:\n",
      "[[1 2 3]\n",
      " [4 5 6]\n",
      " [7 8 9]]\n"
     ]
    }
   ],
   "source": [
    "a1 = np.array([[1,2,3],[4,5,6]])\n",
    "a2 = np.array([[7,8,9]])\n",
    "\n",
    "array_info(a)\n",
    "array_info(b)\n",
    "\n",
    "print('Concatenate along axis zero:')\n",
    "array = np.concatenate((a1, a2), axis=0)\n",
    "array_info(array)"
   ]
  },
  {
   "cell_type": "markdown",
   "metadata": {},
   "source": [
    "# horizontal stacking: hstack"
   ]
  },
  {
   "cell_type": "code",
   "execution_count": 52,
   "metadata": {},
   "outputs": [
    {
     "name": "stdout",
     "output_type": "stream",
     "text": [
      "Array:\n",
      "[[1 1 1]\n",
      " [2 2 2]]\n",
      "Array:\n",
      "[[3 3 3 3]\n",
      " [4 4 4 4]]\n",
      "Array:\n",
      "[[1 1 1 3 3 3 3]\n",
      " [2 2 2 4 4 4 4]]\n"
     ]
    }
   ],
   "source": [
    "a1 = np.array([[1, 1, 1], [2, 2, 2]])\n",
    "a2 = np.array([[3, 3, 3, 3], [4, 4, 4, 4]])\n",
    "\n",
    "array_info(a1)\n",
    "array_info(a2)\n",
    "\n",
    "a_hstacked = np.hstack((a1, a2))\n",
    "array_info(a_hstacked)"
   ]
  },
  {
   "cell_type": "code",
   "execution_count": 53,
   "metadata": {},
   "outputs": [
    {
     "name": "stdout",
     "output_type": "stream",
     "text": [
      "Array:\n",
      "[[1]\n",
      " [2]\n",
      " [3]]\n",
      "Array:\n",
      "[[4]\n",
      " [5]\n",
      " [6]]\n",
      "Horizontal stack:\n",
      "Array:\n",
      "[[1 4]\n",
      " [2 5]\n",
      " [3 6]]\n"
     ]
    }
   ],
   "source": [
    "b1 = np.array([[1],[2],[3]])\n",
    "b2 = np.array([[4],[5],[6]])\n",
    "\n",
    "array_info(b1)\n",
    "array_info(b2)\n",
    "\n",
    "b_hstacked = np.hstack((b1,b2))\n",
    "\n",
    "print('Horizontal stack:')\n",
    "array_info(b_hstacked)"
   ]
  },
  {
   "cell_type": "markdown",
   "metadata": {},
   "source": [
    "#  Vertical Stacking: vstack\n",
    "# np.vstack(tup)\n",
    "# Stack arrays in sequence vertically (row-wise)."
   ]
  },
  {
   "cell_type": "code",
   "execution_count": 56,
   "metadata": {},
   "outputs": [
    {
     "name": "stdout",
     "output_type": "stream",
     "text": [
      "Array:\n",
      "[1 2 3]\n",
      "Array:\n",
      "[4 5 6]\n",
      "Array:\n",
      "[[1 2 3]\n",
      " [4 5 6]]\n"
     ]
    }
   ],
   "source": [
    "a1 = np.array([1, 2, 3])\n",
    "a2 = np.array([4, 5, 6])\n",
    "\n",
    "array_info(a1)\n",
    "array_info(a2)\n",
    "\n",
    "a_vstacked = np.vstack((a1, a2))\n",
    "array_info(a_vstacked)"
   ]
  },
  {
   "cell_type": "code",
   "execution_count": 57,
   "metadata": {},
   "outputs": [
    {
     "name": "stdout",
     "output_type": "stream",
     "text": [
      "Array:\n",
      "[[[1. 1. 1. 1.]\n",
      "  [1. 1. 1. 1.]\n",
      "  [1. 1. 1. 1.]\n",
      "  [1. 1. 1. 1.]]\n",
      "\n",
      " [[2. 2. 2. 2.]\n",
      "  [2. 2. 2. 2.]\n",
      "  [2. 2. 2. 2.]\n",
      "  [2. 2. 2. 2.]]\n",
      "\n",
      " [[3. 3. 3. 3.]\n",
      "  [3. 3. 3. 3.]\n",
      "  [3. 3. 3. 3.]\n",
      "  [3. 3. 3. 3.]]]\n"
     ]
    }
   ],
   "source": [
    "# Create three separate 1x4x4 arrays.\n",
    "h1 = np.full((1, 4, 4), 1, dtype='float32')\n",
    "h2 = np.full((1, 4, 4), 2, dtype='float32')\n",
    "h3 = np.full((1, 4, 4), 3, dtype='float32')\n",
    "\n",
    "h = np.vstack((h1,h2,h3))\n",
    "array_info(h)"
   ]
  }
 ],
 "metadata": {
  "kernelspec": {
   "display_name": "nihar",
   "language": "python",
   "name": "python3"
  },
  "language_info": {
   "codemirror_mode": {
    "name": "ipython",
    "version": 3
   },
   "file_extension": ".py",
   "mimetype": "text/x-python",
   "name": "python",
   "nbconvert_exporter": "python",
   "pygments_lexer": "ipython3",
   "version": "3.11.4"
  }
 },
 "nbformat": 4,
 "nbformat_minor": 2
}
